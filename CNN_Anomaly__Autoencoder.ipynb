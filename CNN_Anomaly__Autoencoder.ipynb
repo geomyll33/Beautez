{
  "nbformat": 4,
  "nbformat_minor": 0,
  "metadata": {
    "colab": {
      "name": "CNN_Anomaly _Autoencoder.ipynb",
      "provenance": [],
      "authorship_tag": "ABX9TyNxzyX5EU7Au9IzqN6JQqQ5",
      "include_colab_link": true
    },
    "kernelspec": {
      "name": "python3",
      "display_name": "Python 3"
    },
    "accelerator": "GPU"
  },
  "cells": [
    {
      "cell_type": "markdown",
      "metadata": {
        "id": "view-in-github",
        "colab_type": "text"
      },
      "source": [
        "<a href=\"https://colab.research.google.com/github/geomyll33/Beautez/blob/master/CNN_Anomaly__Autoencoder.ipynb\" target=\"_parent\"><img src=\"https://colab.research.google.com/assets/colab-badge.svg\" alt=\"Open In Colab\"/></a>"
      ]
    },
    {
      "cell_type": "code",
      "metadata": {
        "colab": {
          "base_uri": "https://localhost:8080/"
        },
        "id": "vZG0GO47lM3N",
        "outputId": "bd029e4d-5995-4299-edd1-aa06f07bf8d0"
      },
      "source": [
        "import numpy as np\r\n",
        "import pandas as pd\r\n",
        "from tensorflow import keras \r\n",
        "from tensorflow.keras import layers\r\n",
        "from matplotlib import pyplot as plt\r\n",
        "print(keras.__version__)"
      ],
      "execution_count": 1,
      "outputs": [
        {
          "output_type": "stream",
          "text": [
            "2.4.0\n"
          ],
          "name": "stdout"
        }
      ]
    },
    {
      "cell_type": "code",
      "metadata": {
        "colab": {
          "base_uri": "https://localhost:8080/"
        },
        "id": "MNJ0ABcVlfZl",
        "outputId": "01a8bfa5-3f6c-4764-8345-d3a399abb36b"
      },
      "source": [
        "df=pd.read_csv('/content/ευδαπ_dataset_527085.csv')\r\n",
        "print(df)"
      ],
      "execution_count": 2,
      "outputs": [
        {
          "output_type": "stream",
          "text": [
            "   timestamp  indication  delta  linear(20)\n",
            "0   27-01-01         395    NaN         395\n",
            "1   24-04-01         396    1.0         415\n",
            "2   26-07-01         396    0.0         435\n",
            "3   22-10-01         396    0.0         455\n",
            "4   25-01-02         396    0.0         475\n",
            "..       ...         ...    ...         ...\n",
            "76  14-10-19           0    0.0        1915\n",
            "77  17-10-19           2    2.0        1935\n",
            "78  30-01-20          24   22.0        1955\n",
            "79  05-05-20          45   21.0        1975\n",
            "80  26-07-20          62   17.0        1995\n",
            "\n",
            "[81 rows x 4 columns]\n"
          ],
          "name": "stdout"
        }
      ]
    },
    {
      "cell_type": "code",
      "metadata": {
        "colab": {
          "base_uri": "https://localhost:8080/",
          "height": 885
        },
        "id": "tUKykiJSyOHs",
        "outputId": "f8eab928-2be5-4cb4-cf54-537174bbbd37"
      },
      "source": [
        "from IPython.display import display, Markdown\r\n",
        "def report(df):\r\n",
        "    display(Markdown('<b>head():</b>'))\r\n",
        "    display(df.head())\r\n",
        "    display(Markdown('<b>describe():</b>'))\r\n",
        "    display(df.describe())\r\n",
        "    display(Markdown('<b>info():</b>'))\r\n",
        "    display(df.info(verbose=True))\r\n",
        "    display(Markdown('<b>infer_dtype():</b>'))\r\n",
        "    display(df.apply(lambda x: pd.api.types.infer_dtype(x.values)))\r\n",
        "report(df)"
      ],
      "execution_count": 3,
      "outputs": [
        {
          "output_type": "display_data",
          "data": {
            "text/markdown": "<b>head():</b>",
            "text/plain": [
              "<IPython.core.display.Markdown object>"
            ]
          },
          "metadata": {
            "tags": []
          }
        },
        {
          "output_type": "display_data",
          "data": {
            "text/html": [
              "<div>\n",
              "<style scoped>\n",
              "    .dataframe tbody tr th:only-of-type {\n",
              "        vertical-align: middle;\n",
              "    }\n",
              "\n",
              "    .dataframe tbody tr th {\n",
              "        vertical-align: top;\n",
              "    }\n",
              "\n",
              "    .dataframe thead th {\n",
              "        text-align: right;\n",
              "    }\n",
              "</style>\n",
              "<table border=\"1\" class=\"dataframe\">\n",
              "  <thead>\n",
              "    <tr style=\"text-align: right;\">\n",
              "      <th></th>\n",
              "      <th>timestamp</th>\n",
              "      <th>indication</th>\n",
              "      <th>delta</th>\n",
              "      <th>linear(20)</th>\n",
              "    </tr>\n",
              "  </thead>\n",
              "  <tbody>\n",
              "    <tr>\n",
              "      <th>0</th>\n",
              "      <td>27-01-01</td>\n",
              "      <td>395</td>\n",
              "      <td>NaN</td>\n",
              "      <td>395</td>\n",
              "    </tr>\n",
              "    <tr>\n",
              "      <th>1</th>\n",
              "      <td>24-04-01</td>\n",
              "      <td>396</td>\n",
              "      <td>1.0</td>\n",
              "      <td>415</td>\n",
              "    </tr>\n",
              "    <tr>\n",
              "      <th>2</th>\n",
              "      <td>26-07-01</td>\n",
              "      <td>396</td>\n",
              "      <td>0.0</td>\n",
              "      <td>435</td>\n",
              "    </tr>\n",
              "    <tr>\n",
              "      <th>3</th>\n",
              "      <td>22-10-01</td>\n",
              "      <td>396</td>\n",
              "      <td>0.0</td>\n",
              "      <td>455</td>\n",
              "    </tr>\n",
              "    <tr>\n",
              "      <th>4</th>\n",
              "      <td>25-01-02</td>\n",
              "      <td>396</td>\n",
              "      <td>0.0</td>\n",
              "      <td>475</td>\n",
              "    </tr>\n",
              "  </tbody>\n",
              "</table>\n",
              "</div>"
            ],
            "text/plain": [
              "  timestamp  indication  delta  linear(20)\n",
              "0  27-01-01         395    NaN         395\n",
              "1  24-04-01         396    1.0         415\n",
              "2  26-07-01         396    0.0         435\n",
              "3  22-10-01         396    0.0         455\n",
              "4  25-01-02         396    0.0         475"
            ]
          },
          "metadata": {
            "tags": []
          }
        },
        {
          "output_type": "display_data",
          "data": {
            "text/markdown": "<b>describe():</b>",
            "text/plain": [
              "<IPython.core.display.Markdown object>"
            ]
          },
          "metadata": {
            "tags": []
          }
        },
        {
          "output_type": "display_data",
          "data": {
            "text/html": [
              "<div>\n",
              "<style scoped>\n",
              "    .dataframe tbody tr th:only-of-type {\n",
              "        vertical-align: middle;\n",
              "    }\n",
              "\n",
              "    .dataframe tbody tr th {\n",
              "        vertical-align: top;\n",
              "    }\n",
              "\n",
              "    .dataframe thead th {\n",
              "        text-align: right;\n",
              "    }\n",
              "</style>\n",
              "<table border=\"1\" class=\"dataframe\">\n",
              "  <thead>\n",
              "    <tr style=\"text-align: right;\">\n",
              "      <th></th>\n",
              "      <th>indication</th>\n",
              "      <th>delta</th>\n",
              "      <th>linear(20)</th>\n",
              "    </tr>\n",
              "  </thead>\n",
              "  <tbody>\n",
              "    <tr>\n",
              "      <th>count</th>\n",
              "      <td>81.000000</td>\n",
              "      <td>80.000000</td>\n",
              "      <td>81.000000</td>\n",
              "    </tr>\n",
              "    <tr>\n",
              "      <th>mean</th>\n",
              "      <td>432.641975</td>\n",
              "      <td>-4.162500</td>\n",
              "      <td>1195.000000</td>\n",
              "    </tr>\n",
              "    <tr>\n",
              "      <th>std</th>\n",
              "      <td>160.258097</td>\n",
              "      <td>80.014151</td>\n",
              "      <td>470.531614</td>\n",
              "    </tr>\n",
              "    <tr>\n",
              "      <th>min</th>\n",
              "      <td>0.000000</td>\n",
              "      <td>-566.000000</td>\n",
              "      <td>395.000000</td>\n",
              "    </tr>\n",
              "    <tr>\n",
              "      <th>25%</th>\n",
              "      <td>399.000000</td>\n",
              "      <td>0.000000</td>\n",
              "      <td>795.000000</td>\n",
              "    </tr>\n",
              "    <tr>\n",
              "      <th>50%</th>\n",
              "      <td>470.000000</td>\n",
              "      <td>1.000000</td>\n",
              "      <td>1195.000000</td>\n",
              "    </tr>\n",
              "    <tr>\n",
              "      <th>75%</th>\n",
              "      <td>565.000000</td>\n",
              "      <td>6.000000</td>\n",
              "      <td>1595.000000</td>\n",
              "    </tr>\n",
              "    <tr>\n",
              "      <th>max</th>\n",
              "      <td>566.000000</td>\n",
              "      <td>89.000000</td>\n",
              "      <td>1995.000000</td>\n",
              "    </tr>\n",
              "  </tbody>\n",
              "</table>\n",
              "</div>"
            ],
            "text/plain": [
              "       indication       delta   linear(20)\n",
              "count   81.000000   80.000000    81.000000\n",
              "mean   432.641975   -4.162500  1195.000000\n",
              "std    160.258097   80.014151   470.531614\n",
              "min      0.000000 -566.000000   395.000000\n",
              "25%    399.000000    0.000000   795.000000\n",
              "50%    470.000000    1.000000  1195.000000\n",
              "75%    565.000000    6.000000  1595.000000\n",
              "max    566.000000   89.000000  1995.000000"
            ]
          },
          "metadata": {
            "tags": []
          }
        },
        {
          "output_type": "display_data",
          "data": {
            "text/markdown": "<b>info():</b>",
            "text/plain": [
              "<IPython.core.display.Markdown object>"
            ]
          },
          "metadata": {
            "tags": []
          }
        },
        {
          "output_type": "stream",
          "text": [
            "<class 'pandas.core.frame.DataFrame'>\n",
            "RangeIndex: 81 entries, 0 to 80\n",
            "Data columns (total 4 columns):\n",
            " #   Column      Non-Null Count  Dtype  \n",
            "---  ------      --------------  -----  \n",
            " 0   timestamp   81 non-null     object \n",
            " 1   indication  81 non-null     int64  \n",
            " 2   delta       80 non-null     float64\n",
            " 3   linear(20)  81 non-null     int64  \n",
            "dtypes: float64(1), int64(2), object(1)\n",
            "memory usage: 2.7+ KB\n"
          ],
          "name": "stdout"
        },
        {
          "output_type": "display_data",
          "data": {
            "text/plain": [
              "None"
            ]
          },
          "metadata": {
            "tags": []
          }
        },
        {
          "output_type": "display_data",
          "data": {
            "text/markdown": "<b>infer_dtype():</b>",
            "text/plain": [
              "<IPython.core.display.Markdown object>"
            ]
          },
          "metadata": {
            "tags": []
          }
        },
        {
          "output_type": "display_data",
          "data": {
            "text/plain": [
              "timestamp       string\n",
              "indication     integer\n",
              "delta         floating\n",
              "linear(20)     integer\n",
              "dtype: object"
            ]
          },
          "metadata": {
            "tags": []
          }
        }
      ]
    },
    {
      "cell_type": "code",
      "metadata": {
        "colab": {
          "base_uri": "https://localhost:8080/",
          "height": 264
        },
        "id": "n8uw9ke5oyF1",
        "outputId": "d4675994-792b-4b78-c416-b92472c6d7ca"
      },
      "source": [
        "fig, ax = plt.subplots()\r\n",
        "df.plot(legend=False, ax=ax)\r\n",
        "plt.show()"
      ],
      "execution_count": 4,
      "outputs": [
        {
          "output_type": "display_data",
          "data": {
            "image/png": "[encoded data removed]",
            "text/plain": [
              "<Figure size 432x288 with 1 Axes>"
            ]
          },
          "metadata": {
            "tags": [],
            "needs_background": "light"
          }
        }
      ]
    },
    {
      "cell_type": "markdown",
      "metadata": {
        "id": "Qaklw0DeR9jg"
      },
      "source": [
        "# Prepare training data"
      ]
    },
    {
      "cell_type": "code",
      "metadata": {
        "colab": {
          "base_uri": "https://localhost:8080/"
        },
        "id": "AVKDTUz9qByg",
        "outputId": "a6233812-b2b0-4e00-c0b1-622c83c480ca"
      },
      "source": [
        "# Normalize and save the mean and std we get,\r\n",
        "# for normalizing test data.\r\n",
        "df1=df.loc[:,['linear(20)']]\r\n",
        "training_mean = df1.mean()\r\n",
        "training_std = df1.std()\r\n",
        "df_training_value = (df1 - training_mean) / training_std\r\n",
        "print(\"Number of training samples:\", len(df_training_value))\r\n",
        "print(\"Number of training samples:\", df_training_value.shape)"
      ],
      "execution_count": 5,
      "outputs": [
        {
          "output_type": "stream",
          "text": [
            "Number of training samples: 81\n",
            "Number of training samples: (81, 1)\n"
          ],
          "name": "stdout"
        }
      ]
    },
    {
      "cell_type": "code",
      "metadata": {
        "colab": {
          "base_uri": "https://localhost:8080/"
        },
        "id": "d3-6cQc7qzoN",
        "outputId": "49f47b8c-07bb-4fb1-efa7-bd6ba87aa302"
      },
      "source": [
        "TIME_STEPS = 8\r\n",
        "\r\n",
        "# Generated training sequences for use in the model.\r\n",
        "def create_sequences(values, time_steps=TIME_STEPS):\r\n",
        "    output = []\r\n",
        "    for i in range(len(values) - time_steps):\r\n",
        "        output.append(values[i : (i + time_steps)])\r\n",
        "    return np.stack(output)\r\n",
        "\r\n",
        "\r\n",
        "x_train = create_sequences(df_training_value.values)\r\n",
        "print(\"Training input shape: \", x_train.shape)"
      ],
      "execution_count": 6,
      "outputs": [
        {
          "output_type": "stream",
          "text": [
            "Training input shape:  (73, 8, 1)\n"
          ],
          "name": "stdout"
        }
      ]
    },
    {
      "cell_type": "markdown",
      "metadata": {
        "id": "fQN8JHCJSCZa"
      },
      "source": [
        "# Build a model"
      ]
    },
    {
      "cell_type": "code",
      "metadata": {
        "colab": {
          "base_uri": "https://localhost:8080/"
        },
        "id": "wHkPfLFRsXga",
        "outputId": "c0d939a8-028e-431f-c9b1-b756a094584d"
      },
      "source": [
        "model = keras.Sequential(\r\n",
        "    [\r\n",
        "        layers.Input(shape=(x_train.shape[1], x_train.shape[2])),\r\n",
        "        layers.Conv1D(\r\n",
        "            filters=32, kernel_size=7, padding=\"same\", strides=2, activation=\"relu\"\r\n",
        "        ),\r\n",
        "        layers.Dropout(rate=0.2),\r\n",
        "        layers.Conv1D(\r\n",
        "            filters=16, kernel_size=7, padding=\"same\", strides=2, activation=\"relu\"\r\n",
        "        ),\r\n",
        "        layers.Conv1DTranspose(\r\n",
        "            filters=16, kernel_size=7, padding=\"same\", strides=2, activation=\"relu\"\r\n",
        "        ),\r\n",
        "        layers.Dropout(rate=0.2),\r\n",
        "        layers.Conv1DTranspose(\r\n",
        "            filters=32, kernel_size=7, padding=\"same\", strides=2, activation=\"relu\"\r\n",
        "        ),\r\n",
        "        layers.Conv1DTranspose(filters=1, kernel_size=7, padding=\"same\"),\r\n",
        "    ]\r\n",
        ")\r\n",
        "model.compile(optimizer=keras.optimizers.Adam(learning_rate=0.001), loss=\"mse\")\r\n",
        "model.summary()"
      ],
      "execution_count": 7,
      "outputs": [
        {
          "output_type": "stream",
          "text": [
            "Model: \"sequential\"\n",
            "_________________________________________________________________\n",
            "Layer (type)                 Output Shape              Param #   \n",
            "=================================================================\n",
            "conv1d (Conv1D)              (None, 4, 32)             256       \n",
            "_________________________________________________________________\n",
            "dropout (Dropout)            (None, 4, 32)             0         \n",
            "_________________________________________________________________\n",
            "conv1d_1 (Conv1D)            (None, 2, 16)             3600      \n",
            "_________________________________________________________________\n",
            "conv1d_transpose (Conv1DTran (None, 4, 16)             1808      \n",
            "_________________________________________________________________\n",
            "dropout_1 (Dropout)          (None, 4, 16)             0         \n",
            "_________________________________________________________________\n",
            "conv1d_transpose_1 (Conv1DTr (None, 8, 32)             3616      \n",
            "_________________________________________________________________\n",
            "conv1d_transpose_2 (Conv1DTr (None, 8, 1)              225       \n",
            "=================================================================\n",
            "Total params: 9,505\n",
            "Trainable params: 9,505\n",
            "Non-trainable params: 0\n",
            "_________________________________________________________________\n"
          ],
          "name": "stdout"
        }
      ]
    },
    {
      "cell_type": "code",
      "metadata": {
        "colab": {
          "base_uri": "https://localhost:8080/"
        },
        "id": "SQzZ38T5s7wN",
        "outputId": "e811011a-b0ad-465e-9e1e-4eadbd802e17"
      },
      "source": [
        "history = model.fit(\r\n",
        "    x_train,\r\n",
        "    x_train,\r\n",
        "    epochs=50,\r\n",
        "    batch_size=8,\r\n",
        "    validation_split=0.1,\r\n",
        "    callbacks=[\r\n",
        "        keras.callbacks.EarlyStopping(monitor=\"val_loss\", patience=40, mode=\"min\")\r\n",
        "    ],\r\n",
        ")"
      ],
      "execution_count": 8,
      "outputs": [
        {
          "output_type": "stream",
          "text": [
            "Epoch 1/50\n",
            "9/9 [==============================] - 2s 56ms/step - loss: 0.5938 - val_loss: 1.8444\n",
            "Epoch 2/50\n",
            "9/9 [==============================] - 0s 6ms/step - loss: 0.6353 - val_loss: 1.6597\n",
            "Epoch 3/50\n",
            "9/9 [==============================] - 0s 6ms/step - loss: 0.3263 - val_loss: 1.2505\n",
            "Epoch 4/50\n",
            "9/9 [==============================] - 0s 5ms/step - loss: 0.1592 - val_loss: 0.4633\n",
            "Epoch 5/50\n",
            "9/9 [==============================] - 0s 5ms/step - loss: 0.0650 - val_loss: 0.1403\n",
            "Epoch 6/50\n",
            "9/9 [==============================] - 0s 5ms/step - loss: 0.0805 - val_loss: 0.0997\n",
            "Epoch 7/50\n",
            "9/9 [==============================] - 0s 6ms/step - loss: 0.0462 - val_loss: 0.1102\n",
            "Epoch 8/50\n",
            "9/9 [==============================] - 0s 5ms/step - loss: 0.0345 - val_loss: 0.0273\n",
            "Epoch 9/50\n",
            "9/9 [==============================] - 0s 5ms/step - loss: 0.0323 - val_loss: 0.0317\n",
            "Epoch 10/50\n",
            "9/9 [==============================] - 0s 5ms/step - loss: 0.0314 - val_loss: 0.0148\n",
            "Epoch 11/50\n",
            "9/9 [==============================] - 0s 5ms/step - loss: 0.0291 - val_loss: 0.0166\n",
            "Epoch 12/50\n",
            "9/9 [==============================] - 0s 6ms/step - loss: 0.0167 - val_loss: 0.0257\n",
            "Epoch 13/50\n",
            "9/9 [==============================] - 0s 5ms/step - loss: 0.0488 - val_loss: 0.0049\n",
            "Epoch 14/50\n",
            "9/9 [==============================] - 0s 5ms/step - loss: 0.0189 - val_loss: 0.0184\n",
            "Epoch 15/50\n",
            "9/9 [==============================] - 0s 5ms/step - loss: 0.0178 - val_loss: 0.0049\n",
            "Epoch 16/50\n",
            "9/9 [==============================] - 0s 6ms/step - loss: 0.0272 - val_loss: 0.0108\n",
            "Epoch 17/50\n",
            "9/9 [==============================] - 0s 5ms/step - loss: 0.0183 - val_loss: 0.0471\n",
            "Epoch 18/50\n",
            "9/9 [==============================] - 0s 5ms/step - loss: 0.0198 - val_loss: 0.0038\n",
            "Epoch 19/50\n",
            "9/9 [==============================] - 0s 6ms/step - loss: 0.0224 - val_loss: 0.0059\n",
            "Epoch 20/50\n",
            "9/9 [==============================] - 0s 5ms/step - loss: 0.0151 - val_loss: 0.0086\n",
            "Epoch 21/50\n",
            "9/9 [==============================] - 0s 6ms/step - loss: 0.0186 - val_loss: 0.0041\n",
            "Epoch 22/50\n",
            "9/9 [==============================] - 0s 5ms/step - loss: 0.0186 - val_loss: 0.0075\n",
            "Epoch 23/50\n",
            "9/9 [==============================] - 0s 6ms/step - loss: 0.0155 - val_loss: 0.0607\n",
            "Epoch 24/50\n",
            "9/9 [==============================] - 0s 5ms/step - loss: 0.0217 - val_loss: 0.0177\n",
            "Epoch 25/50\n",
            "9/9 [==============================] - 0s 6ms/step - loss: 0.0209 - val_loss: 0.0026\n",
            "Epoch 26/50\n",
            "9/9 [==============================] - 0s 6ms/step - loss: 0.0196 - val_loss: 0.0103\n",
            "Epoch 27/50\n",
            "9/9 [==============================] - 0s 5ms/step - loss: 0.0367 - val_loss: 0.0149\n",
            "Epoch 28/50\n",
            "9/9 [==============================] - 0s 6ms/step - loss: 0.0181 - val_loss: 0.0065\n",
            "Epoch 29/50\n",
            "9/9 [==============================] - 0s 6ms/step - loss: 0.0230 - val_loss: 0.0080\n",
            "Epoch 30/50\n",
            "9/9 [==============================] - 0s 6ms/step - loss: 0.0165 - val_loss: 0.0026\n",
            "Epoch 31/50\n",
            "9/9 [==============================] - 0s 5ms/step - loss: 0.0129 - val_loss: 0.0192\n",
            "Epoch 32/50\n",
            "9/9 [==============================] - 0s 5ms/step - loss: 0.0177 - val_loss: 0.0388\n",
            "Epoch 33/50\n",
            "9/9 [==============================] - 0s 6ms/step - loss: 0.0238 - val_loss: 0.0031\n",
            "Epoch 34/50\n",
            "9/9 [==============================] - 0s 5ms/step - loss: 0.0170 - val_loss: 0.0019\n",
            "Epoch 35/50\n",
            "9/9 [==============================] - 0s 6ms/step - loss: 0.0138 - val_loss: 0.0783\n",
            "Epoch 36/50\n",
            "9/9 [==============================] - 0s 5ms/step - loss: 0.0163 - val_loss: 0.0043\n",
            "Epoch 37/50\n",
            "9/9 [==============================] - 0s 5ms/step - loss: 0.0248 - val_loss: 0.0020\n",
            "Epoch 38/50\n",
            "9/9 [==============================] - 0s 6ms/step - loss: 0.0135 - val_loss: 0.0075\n",
            "Epoch 39/50\n",
            "9/9 [==============================] - 0s 5ms/step - loss: 0.0146 - val_loss: 0.0031\n",
            "Epoch 40/50\n",
            "9/9 [==============================] - 0s 5ms/step - loss: 0.0103 - val_loss: 0.0039\n",
            "Epoch 41/50\n",
            "9/9 [==============================] - 0s 5ms/step - loss: 0.0153 - val_loss: 0.0350\n",
            "Epoch 42/50\n",
            "9/9 [==============================] - 0s 5ms/step - loss: 0.0166 - val_loss: 0.0054\n",
            "Epoch 43/50\n",
            "9/9 [==============================] - 0s 6ms/step - loss: 0.0251 - val_loss: 0.0059\n",
            "Epoch 44/50\n",
            "9/9 [==============================] - 0s 5ms/step - loss: 0.0113 - val_loss: 0.0067\n",
            "Epoch 45/50\n",
            "9/9 [==============================] - 0s 5ms/step - loss: 0.0121 - val_loss: 0.0038\n",
            "Epoch 46/50\n",
            "9/9 [==============================] - 0s 5ms/step - loss: 0.0176 - val_loss: 0.0185\n",
            "Epoch 47/50\n",
            "9/9 [==============================] - 0s 5ms/step - loss: 0.0100 - val_loss: 0.0244\n",
            "Epoch 48/50\n",
            "9/9 [==============================] - 0s 6ms/step - loss: 0.0129 - val_loss: 7.1207e-04\n",
            "Epoch 49/50\n",
            "9/9 [==============================] - 0s 5ms/step - loss: 0.0157 - val_loss: 0.0057\n",
            "Epoch 50/50\n",
            "9/9 [==============================] - 0s 6ms/step - loss: 0.0160 - val_loss: 0.0116\n"
          ],
          "name": "stdout"
        }
      ]
    },
    {
      "cell_type": "code",
      "metadata": {
        "colab": {
          "base_uri": "https://localhost:8080/",
          "height": 264
        },
        "id": "TT0F6zEp_-rc",
        "outputId": "6c9918d1-6d0f-4fca-f2bf-01e64edeffa5"
      },
      "source": [
        "plt.plot(history.history[\"loss\"], label=\"Training Loss\")\r\n",
        "plt.plot(history.history[\"val_loss\"], label=\"Validation Loss\")\r\n",
        "plt.legend()\r\n",
        "plt.show()"
      ],
      "execution_count": 9,
      "outputs": [
        {
          "output_type": "display_data",
          "data": {
            "image/png": "[encoded data removed]",
            "text/plain": [
              "<Figure size 432x288 with 1 Axes>"
            ]
          },
          "metadata": {
            "tags": [],
            "needs_background": "light"
          }
        }
      ]
    },
    {
      "cell_type": "markdown",
      "metadata": {
        "id": "bYmeALaNSJ0d"
      },
      "source": [
        "# Detecting anomalies"
      ]
    },
    {
      "cell_type": "markdown",
      "metadata": {
        "id": "QgyQQod6SOUo"
      },
      "source": [
        "detect anomalies by determining how well our model can reconstruct the input data.\r\n",
        "\r\n",
        "Find MAE loss on training samples.\r\n",
        "Find max MAE loss value. This is the worst our model has performed trying to reconstruct a sample. We will make this the threshold for anomaly detection.\r\n",
        "If the reconstruction loss for a sample is greater than this threshold value then we can infer that the model is seeing a pattern that it isn't familiar with. We will label this sample as an anomaly."
      ]
    },
    {
      "cell_type": "code",
      "metadata": {
        "colab": {
          "base_uri": "https://localhost:8080/",
          "height": 296
        },
        "id": "Jkfq7Y6aAkli",
        "outputId": "6528f58c-7cde-46c7-8473-caed8f3357db"
      },
      "source": [
        "# Get train MAE loss.\r\n",
        "x_train_pred = model.predict(x_train)\r\n",
        "train_mae_loss = np.mean(np.abs(x_train_pred - x_train), axis=1)\r\n",
        "\r\n",
        "plt.hist(train_mae_loss, bins=50)\r\n",
        "plt.xlabel(\"Train MAE loss\")\r\n",
        "plt.ylabel(\"No of samples\")\r\n",
        "plt.show()\r\n",
        "\r\n",
        "# Get reconstruction loss threshold.\r\n",
        "threshold = np.max(train_mae_loss)\r\n",
        "print(\"Reconstruction error threshold: \", threshold)"
      ],
      "execution_count": 10,
      "outputs": [
        {
          "output_type": "display_data",
          "data": {
            "image/png": "[encoded data removed]",
            "text/plain": [
              "<Figure size 432x288 with 1 Axes>"
            ]
          },
          "metadata": {
            "tags": [],
            "needs_background": "light"
          }
        },
        {
          "output_type": "stream",
          "text": [
            "Reconstruction error threshold:  0.2122352032050617\n"
          ],
          "name": "stdout"
        }
      ]
    },
    {
      "cell_type": "code",
      "metadata": {
        "colab": {
          "base_uri": "https://localhost:8080/",
          "height": 264
        },
        "id": "tUYNlp15A6UD",
        "outputId": "916d6afc-9a7f-473b-ee2d-5276b661a6aa"
      },
      "source": [
        "# Checking how the first sequence is learnt\r\n",
        "plt.plot(x_train[0])\r\n",
        "plt.plot(x_train_pred[0])\r\n",
        "plt.show()"
      ],
      "execution_count": 32,
      "outputs": [
        {
          "output_type": "display_data",
          "data": {
            "image/png": "[encoded data removed]",
            "text/plain": [
              "<Figure size 432x288 with 1 Axes>"
            ]
          },
          "metadata": {
            "tags": [],
            "needs_background": "light"
          }
        }
      ]
    },
    {
      "cell_type": "markdown",
      "metadata": {
        "id": "InlAEISESj5R"
      },
      "source": [
        "# **Prepare test data**"
      ]
    },
    {
      "cell_type": "code",
      "metadata": {
        "colab": {
          "base_uri": "https://localhost:8080/"
        },
        "id": "F5vJqPVWCmr-",
        "outputId": "5e34f314-8071-48bb-f816-954c428e9fbf"
      },
      "source": [
        "def normalize_test(values, mean, std):\r\n",
        "    values -= mean\r\n",
        "    values /= std\r\n",
        "    return values\r\n",
        "\r\n",
        "df2=df[['indication']]\r\n",
        "training_mean = df2.mean()\r\n",
        "training_std = df2.std()\r\n",
        "\r\n",
        "df_test_value = (df2 - training_mean) / training_std\r\n",
        "print(\"Number of training samples:\", len(df_training_value))\r\n",
        "print(\"Number of training samples:\", df_training_value.shape)\r\n"
      ],
      "execution_count": 12,
      "outputs": [
        {
          "output_type": "stream",
          "text": [
            "Number of training samples: 81\n",
            "Number of training samples: (81, 1)\n"
          ],
          "name": "stdout"
        }
      ]
    },
    {
      "cell_type": "code",
      "metadata": {
        "colab": {
          "base_uri": "https://localhost:8080/",
          "height": 268
        },
        "id": "2rzSGALRCuEq",
        "outputId": "53b558bd-86f3-41de-979d-8ec5f722233f"
      },
      "source": [
        "fig, ax = plt.subplots()\r\n",
        "df_test_value.plot(legend=False, ax=ax)\r\n",
        "plt.show()"
      ],
      "execution_count": 13,
      "outputs": [
        {
          "output_type": "display_data",
          "data": {
            "image/png": "[encoded data removed]",
            "text/plain": [
              "<Figure size 432x288 with 1 Axes>"
            ]
          },
          "metadata": {
            "tags": [],
            "needs_background": "light"
          }
        }
      ]
    },
    {
      "cell_type": "code",
      "metadata": {
        "colab": {
          "base_uri": "https://localhost:8080/"
        },
        "id": "xEBj_wJIHuWr",
        "outputId": "41e3e9bb-820f-40a4-f3f7-824bc9ac67d6"
      },
      "source": [
        "# Create sequences from test values.\r\n",
        "x_test = create_sequences(df_test_value.values)\r\n",
        "print(\"Test input shape: \", x_test.shape)"
      ],
      "execution_count": 14,
      "outputs": [
        {
          "output_type": "stream",
          "text": [
            "Test input shape:  (73, 8, 1)\n"
          ],
          "name": "stdout"
        }
      ]
    },
    {
      "cell_type": "code",
      "metadata": {
        "id": "CtdSjbFXIQie"
      },
      "source": [
        "# Get test MAE loss.\r\n",
        "x_test_pred = model.predict(x_test)\r\n",
        "test_mae_loss = np.mean(np.abs(x_test_pred - x_test), axis=1)\r\n",
        "test_mae_loss = test_mae_loss.reshape((-1))"
      ],
      "execution_count": 15,
      "outputs": []
    },
    {
      "cell_type": "code",
      "metadata": {
        "colab": {
          "base_uri": "https://localhost:8080/",
          "height": 278
        },
        "id": "mKj_zN4HCAfw",
        "outputId": "0a27076c-c955-4d12-9d9b-88ab0e43662d"
      },
      "source": [
        "plt.hist(test_mae_loss, bins=20)\r\n",
        "plt.xlabel(\"test MAE loss\")\r\n",
        "plt.ylabel(\"No of samples\")\r\n",
        "plt.show()\r\n",
        "\r\n"
      ],
      "execution_count": 27,
      "outputs": [
        {
          "output_type": "display_data",
          "data": {
            "image/png": "[encoded data removed]",
            "text/plain": [
              "<Figure size 432x288 with 1 Axes>"
            ]
          },
          "metadata": {
            "tags": [],
            "needs_background": "light"
          }
        }
      ]
    },
    {
      "cell_type": "code",
      "metadata": {
        "colab": {
          "base_uri": "https://localhost:8080/"
        },
        "id": "p0CkX08uLvcu",
        "outputId": "8b44187c-1434-420b-f168-c73388c9cd16"
      },
      "source": [
        "# Detect all the samples which are anomalies.\r\n",
        "anomalies = test_mae_loss > threshold\r\n",
        "print(\"Number of anomaly samples: \", np.sum(anomalies))\r\n",
        "print(\"Indices of anomaly samples: \", np.where(anomalies))"
      ],
      "execution_count": 28,
      "outputs": [
        {
          "output_type": "stream",
          "text": [
            "Number of anomaly samples:  16\n",
            "Indices of anomaly samples:  (array([13, 14, 15, 16, 17, 18, 19, 20, 21, 22, 23, 68, 69, 70, 71, 72]),)\n"
          ],
          "name": "stdout"
        }
      ]
    },
    {
      "cell_type": "markdown",
      "metadata": {
        "id": "E4_PrqMASpFX"
      },
      "source": [
        "# Plot anomalies"
      ]
    },
    {
      "cell_type": "markdown",
      "metadata": {
        "id": "Mbj8cAF8SvPF"
      },
      "source": [
        "We now know the samples of the data which are anomalies. With this, we will find the corresponding timestamps from the original test data. We will be using the following method to do that:\r\n",
        "\r\n",
        "Let's say time_steps = 3 and we have 10 training values. Our x_train will look like this:\r\n",
        "\r\n",
        "0, 1, 2\r\n",
        "1, 2, 3\r\n",
        "2, 3, 4\r\n",
        "3, 4, 5\r\n",
        "4, 5, 6\r\n",
        "5, 6, 7\r\n",
        "6, 7, 8\r\n",
        "7, 8, 9\r\n",
        "All except the initial and the final time_steps-1 data values, will appear in time_steps number of samples. So, if we know that the samples [(3, 4, 5), (4, 5, 6), (5, 6, 7)] are anomalies, we can say that the data point 5 is an anomaly."
      ]
    },
    {
      "cell_type": "code",
      "metadata": {
        "id": "JdZYuaHgL7is"
      },
      "source": [
        "# data i is an anomaly if samples [(i - timesteps + 1) to (i)] are anomalies\r\n",
        "anomalous_data_indices = []\r\n",
        "for data_idx in range(TIME_STEPS - 1, len(df_test_value) - TIME_STEPS + 1):\r\n",
        "    if np.all(anomalies[data_idx - TIME_STEPS + 1 : data_idx]):\r\n",
        "        anomalous_data_indices.append(data_idx)"
      ],
      "execution_count": 29,
      "outputs": []
    },
    {
      "cell_type": "code",
      "metadata": {
        "colab": {
          "base_uri": "https://localhost:8080/",
          "height": 264
        },
        "id": "GnWB-QPsMBLP",
        "outputId": "fe08be3b-e697-4d65-86b1-4cf92f42de1b"
      },
      "source": [
        "df_subset = df2.iloc[anomalous_data_indices]\r\n",
        "fig, ax = plt.subplots()\r\n",
        "df2.plot(legend=False, ax=ax)\r\n",
        "df_subset.plot(legend=False, ax=ax, color=\"r\")\r\n",
        "plt.show()"
      ],
      "execution_count": 20,
      "outputs": [
        {
          "output_type": "display_data",
          "data": {
            "image/png": "[encoded data removed]",
            "text/plain": [
              "<Figure size 432x288 with 1 Axes>"
            ]
          },
          "metadata": {
            "tags": [],
            "needs_background": "light"
          }
        }
      ]
    }
  ]
}