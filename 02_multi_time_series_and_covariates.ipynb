{
  "nbformat": 4,
  "nbformat_minor": 0,
  "metadata": {
    "kernelspec": {
      "display_name": "Python 3",
      "language": "python",
      "name": "python3"
    },
    "language_info": {
      "codemirror_mode": {
        "name": "ipython",
        "version": 3
      },
      "file_extension": ".py",
      "mimetype": "text/x-python",
      "name": "python",
      "nbconvert_exporter": "python",
      "pygments_lexer": "ipython3",
      "version": "3.8.5"
    },
    "colab": {
      "name": "02-multi-time-series-and-covariates.ipynb",
      "provenance": [],
      "toc_visible": true,
      "include_colab_link": true
    }
  },
  "cells": [
    {
      "cell_type": "markdown",
      "metadata": {
        "id": "view-in-github",
        "colab_type": "text"
      },
      "source": [
        "<a href=\"https://colab.research.google.com/github/geomyll33/Beautez/blob/master/02_multi_time_series_and_covariates.ipynb\" target=\"_parent\"><img src=\"https://colab.research.google.com/assets/colab-badge.svg\" alt=\"Open In Colab\"/></a>"
      ]
    },
    {
      "cell_type": "markdown",
      "metadata": {
        "id": "jQnrXaEcZs7N"
      },
      "source": [
        "# Multiple Time Series, Pre-trained Models and Covariates\n",
        "\n",
        "This notebook serves as a tutorial for:\n",
        "* Training a single model on multiple time series\n",
        "* Using a pre-trained model to obtain forecasts for any time series unseen during training\n",
        "* Training and using a model using covariates\n",
        "\n",
        "First, some necessary imports:"
      ]
    },
    {
      "cell_type": "code",
      "metadata": {
        "colab": {
          "base_uri": "https://localhost:8080/",
          "height": 1000
        },
        "id": "mTewim7FZ0gB",
        "outputId": "c98b08e3-2ea3-4674-94a5-8c3a546b70c2"
      },
      "source": [
        "!pip install 'u8darts[all]'"
      ],
      "execution_count": 1,
      "outputs": [
        {
          "output_type": "stream",
          "text": [
            "Collecting u8darts[all]\n",
            "\u001b[?25l  Downloading https://files.pythonhosted.org/packages/55/db/a5d17a4cf5617105d8e8ecc8397342e99d1c8cf220acf06023f9a0b333bf/u8darts-0.6.1-py3-none-any.whl (141kB)\n",
            "\u001b[K     |████████████████████████████████| 143kB 5.5MB/s \n",
            "\u001b[?25hCollecting statsmodels==0.11.1\n",
            "\u001b[?25l  Downloading https://files.pythonhosted.org/packages/7b/6a/0bf4184c3fb6f9f43df997b88de5784b4cb2f6bd19a5dc213463971076cf/statsmodels-0.11.1-cp37-cp37m-manylinux1_x86_64.whl (8.7MB)\n",
            "\u001b[K     |████████████████████████████████| 8.7MB 10.0MB/s \n",
            "\u001b[?25hCollecting scipy==1.5.0\n",
            "\u001b[?25l  Downloading https://files.pythonhosted.org/packages/6e/be/e95216d3bbac5d5c3a4bb0b44817b7808cea4c66e6b05cdff93d7a616fc4/scipy-1.5.0-cp37-cp37m-manylinux1_x86_64.whl (25.9MB)\n",
            "\u001b[K     |████████████████████████████████| 25.9MB 1.8MB/s \n",
            "\u001b[?25hCollecting pandas==1.1.0\n",
            "\u001b[?25l  Downloading https://files.pythonhosted.org/packages/94/b1/f77f49cc7cc538b247f30c2ae7e3a50f29e44f0b1af32ff4869d7de3c762/pandas-1.1.0-cp37-cp37m-manylinux1_x86_64.whl (10.5MB)\n",
            "\u001b[K     |████████████████████████████████| 10.5MB 38.9MB/s \n",
            "\u001b[?25hCollecting ipython==7.15.0\n",
            "\u001b[?25l  Downloading https://files.pythonhosted.org/packages/aa/e8/47fda10c3ab103d9d4a667b40da9afd542c4e50aeb00c861b4eee5bb4e8f/ipython-7.15.0-py3-none-any.whl (783kB)\n",
            "\u001b[K     |████████████████████████████████| 788kB 49.0MB/s \n",
            "\u001b[?25hCollecting holidays==0.10.2\n",
            "\u001b[?25l  Downloading https://files.pythonhosted.org/packages/0a/95/73efcf821449709def494400d497aac620a3caeb83af932d874559030ced/holidays-0.10.2.tar.gz (110kB)\n",
            "\u001b[K     |████████████████████████████████| 112kB 46.2MB/s \n",
            "\u001b[?25hCollecting scikit-learn==0.23.2\n",
            "\u001b[?25l  Downloading https://files.pythonhosted.org/packages/f4/cb/64623369f348e9bfb29ff898a57ac7c91ed4921f228e9726546614d63ccb/scikit_learn-0.23.2-cp37-cp37m-manylinux1_x86_64.whl (6.8MB)\n",
            "\u001b[K     |████████████████████████████████| 6.8MB 38.4MB/s \n",
            "\u001b[?25hCollecting tqdm==4.46.1\n",
            "\u001b[?25l  Downloading https://files.pythonhosted.org/packages/f3/76/4697ce203a3d42b2ead61127b35e5fcc26bba9a35c03b32a2bd342a4c869/tqdm-4.46.1-py2.py3-none-any.whl (63kB)\n",
            "\u001b[K     |████████████████████████████████| 71kB 8.2MB/s \n",
            "\u001b[?25hRequirement already satisfied: matplotlib==3.2.2 in /usr/local/lib/python3.7/dist-packages (from u8darts[all]) (3.2.2)\n",
            "Collecting numpy==1.19.0\n",
            "\u001b[?25l  Downloading https://files.pythonhosted.org/packages/a8/31/e2c3eda7afe7dab08e1f24767b8e38ff2f30dc82bd74aa3a5324c550366a/numpy-1.19.0-cp37-cp37m-manylinux2010_x86_64.whl (14.6MB)\n",
            "\u001b[K     |████████████████████████████████| 14.6MB 157kB/s \n",
            "\u001b[?25hRequirement already satisfied: torch==1.7.1; extra == \"all\" in /usr/local/lib/python3.7/dist-packages (from u8darts[all]) (1.7.1+cu101)\n",
            "Collecting pmdarima==1.6.1; extra == \"all\"\n",
            "\u001b[?25l  Downloading https://files.pythonhosted.org/packages/a2/b7/0f66e4bd550dd964a15ed870015942b91e6c43acf37abcb0c2bd6cece347/pmdarima-1.6.1-cp37-cp37m-manylinux1_x86_64.whl (1.5MB)\n",
            "\u001b[K     |████████████████████████████████| 1.5MB 38.6MB/s \n",
            "\u001b[?25hCollecting tensorboard==2.4.0; extra == \"all\"\n",
            "\u001b[?25l  Downloading https://files.pythonhosted.org/packages/02/83/179c8f76e5716030cc3ee9433721161cfcc1d854e9ba20c9205180bb100a/tensorboard-2.4.0-py3-none-any.whl (10.6MB)\n",
            "\u001b[K     |████████████████████████████████| 10.6MB 18.3MB/s \n",
            "\u001b[?25hCollecting fbprophet==0.6; extra == \"all\"\n",
            "\u001b[?25l  Downloading https://files.pythonhosted.org/packages/f7/86/4509e952f9724f084625e93e0bf8d8519b25c79029a0a916b0f996644c75/fbprophet-0.6.tar.gz (54kB)\n",
            "\u001b[K     |████████████████████████████████| 61kB 7.8MB/s \n",
            "\u001b[?25hRequirement already satisfied: patsy>=0.5 in /usr/local/lib/python3.7/dist-packages (from statsmodels==0.11.1->u8darts[all]) (0.5.1)\n",
            "Requirement already satisfied: pytz>=2017.2 in /usr/local/lib/python3.7/dist-packages (from pandas==1.1.0->u8darts[all]) (2018.9)\n",
            "Requirement already satisfied: python-dateutil>=2.7.3 in /usr/local/lib/python3.7/dist-packages (from pandas==1.1.0->u8darts[all]) (2.8.1)\n",
            "Requirement already satisfied: backcall in /usr/local/lib/python3.7/dist-packages (from ipython==7.15.0->u8darts[all]) (0.2.0)\n",
            "Requirement already satisfied: jedi>=0.10 in /usr/local/lib/python3.7/dist-packages (from ipython==7.15.0->u8darts[all]) (0.18.0)\n",
            "Requirement already satisfied: pexpect; sys_platform != \"win32\" in /usr/local/lib/python3.7/dist-packages (from ipython==7.15.0->u8darts[all]) (4.8.0)\n",
            "Requirement already satisfied: pickleshare in /usr/local/lib/python3.7/dist-packages (from ipython==7.15.0->u8darts[all]) (0.7.5)\n",
            "Collecting prompt-toolkit!=3.0.0,!=3.0.1,<3.1.0,>=2.0.0\n",
            "\u001b[?25l  Downloading https://files.pythonhosted.org/packages/a6/0b/c6de29441b29f8b54d5bbe29a8b223de6e400714ff50e85541bd4c783421/prompt_toolkit-3.0.16-py3-none-any.whl (366kB)\n",
            "\u001b[K     |████████████████████████████████| 368kB 44.9MB/s \n",
            "\u001b[?25hRequirement already satisfied: setuptools>=18.5 in /usr/local/lib/python3.7/dist-packages (from ipython==7.15.0->u8darts[all]) (54.0.0)\n",
            "Requirement already satisfied: decorator in /usr/local/lib/python3.7/dist-packages (from ipython==7.15.0->u8darts[all]) (4.4.2)\n",
            "Requirement already satisfied: pygments in /usr/local/lib/python3.7/dist-packages (from ipython==7.15.0->u8darts[all]) (2.6.1)\n",
            "Requirement already satisfied: traitlets>=4.2 in /usr/local/lib/python3.7/dist-packages (from ipython==7.15.0->u8darts[all]) (5.0.5)\n",
            "Requirement already satisfied: six in /usr/local/lib/python3.7/dist-packages (from holidays==0.10.2->u8darts[all]) (1.15.0)\n",
            "Requirement already satisfied: convertdate in /usr/local/lib/python3.7/dist-packages (from holidays==0.10.2->u8darts[all]) (2.3.1)\n",
            "Requirement already satisfied: korean_lunar_calendar in /usr/local/lib/python3.7/dist-packages (from holidays==0.10.2->u8darts[all]) (0.2.1)\n",
            "Collecting threadpoolctl>=2.0.0\n",
            "  Downloading https://files.pythonhosted.org/packages/f7/12/ec3f2e203afa394a149911729357aa48affc59c20e2c1c8297a60f33f133/threadpoolctl-2.1.0-py3-none-any.whl\n",
            "Requirement already satisfied: joblib>=0.11 in /usr/local/lib/python3.7/dist-packages (from scikit-learn==0.23.2->u8darts[all]) (1.0.1)\n",
            "Requirement already satisfied: kiwisolver>=1.0.1 in /usr/local/lib/python3.7/dist-packages (from matplotlib==3.2.2->u8darts[all]) (1.3.1)\n",
            "Requirement already satisfied: cycler>=0.10 in /usr/local/lib/python3.7/dist-packages (from matplotlib==3.2.2->u8darts[all]) (0.10.0)\n",
            "Requirement already satisfied: pyparsing!=2.0.4,!=2.1.2,!=2.1.6,>=2.0.1 in /usr/local/lib/python3.7/dist-packages (from matplotlib==3.2.2->u8darts[all]) (2.4.7)\n",
            "Requirement already satisfied: typing-extensions in /usr/local/lib/python3.7/dist-packages (from torch==1.7.1; extra == \"all\"->u8darts[all]) (3.7.4.3)\n",
            "Requirement already satisfied: urllib3 in /usr/local/lib/python3.7/dist-packages (from pmdarima==1.6.1; extra == \"all\"->u8darts[all]) (1.24.3)\n",
            "Collecting Cython<0.29.18,>=0.29\n",
            "\u001b[?25l  Downloading https://files.pythonhosted.org/packages/dc/6c/198da24bf0a1d5b5ee6119e891c5300bb1b0b8904832fac9ff62d4e381c9/Cython-0.29.17-cp37-cp37m-manylinux1_x86_64.whl (2.1MB)\n",
            "\u001b[K     |████████████████████████████████| 2.1MB 32.6MB/s \n",
            "\u001b[?25hRequirement already satisfied: requests<3,>=2.21.0 in /usr/local/lib/python3.7/dist-packages (from tensorboard==2.4.0; extra == \"all\"->u8darts[all]) (2.23.0)\n",
            "Requirement already satisfied: google-auth<2,>=1.6.3 in /usr/local/lib/python3.7/dist-packages (from tensorboard==2.4.0; extra == \"all\"->u8darts[all]) (1.27.0)\n",
            "Requirement already satisfied: protobuf>=3.6.0 in /usr/local/lib/python3.7/dist-packages (from tensorboard==2.4.0; extra == \"all\"->u8darts[all]) (3.12.4)\n",
            "Requirement already satisfied: google-auth-oauthlib<0.5,>=0.4.1 in /usr/local/lib/python3.7/dist-packages (from tensorboard==2.4.0; extra == \"all\"->u8darts[all]) (0.4.2)\n",
            "Requirement already satisfied: markdown>=2.6.8 in /usr/local/lib/python3.7/dist-packages (from tensorboard==2.4.0; extra == \"all\"->u8darts[all]) (3.3.4)\n",
            "Requirement already satisfied: tensorboard-plugin-wit>=1.6.0 in /usr/local/lib/python3.7/dist-packages (from tensorboard==2.4.0; extra == \"all\"->u8darts[all]) (1.8.0)\n",
            "Requirement already satisfied: absl-py>=0.4 in /usr/local/lib/python3.7/dist-packages (from tensorboard==2.4.0; extra == \"all\"->u8darts[all]) (0.10.0)\n",
            "Requirement already satisfied: grpcio>=1.24.3 in /usr/local/lib/python3.7/dist-packages (from tensorboard==2.4.0; extra == \"all\"->u8darts[all]) (1.32.0)\n",
            "Requirement already satisfied: wheel>=0.26; python_version >= \"3\" in /usr/local/lib/python3.7/dist-packages (from tensorboard==2.4.0; extra == \"all\"->u8darts[all]) (0.36.2)\n",
            "Requirement already satisfied: werkzeug>=0.11.15 in /usr/local/lib/python3.7/dist-packages (from tensorboard==2.4.0; extra == \"all\"->u8darts[all]) (1.0.1)\n",
            "Collecting cmdstanpy==0.4\n",
            "  Downloading https://files.pythonhosted.org/packages/e3/a7/6d045520e6ad11cf630b483f02a0645e743fcc7f75c28fd344c769100203/cmdstanpy-0.4.0-py3-none-any.whl\n",
            "Requirement already satisfied: pystan>=2.14 in /usr/local/lib/python3.7/dist-packages (from fbprophet==0.6; extra == \"all\"->u8darts[all]) (2.19.1.1)\n",
            "Requirement already satisfied: LunarCalendar>=0.0.9 in /usr/local/lib/python3.7/dist-packages (from fbprophet==0.6; extra == \"all\"->u8darts[all]) (0.0.9)\n",
            "Requirement already satisfied: setuptools-git>=1.2 in /usr/local/lib/python3.7/dist-packages (from fbprophet==0.6; extra == \"all\"->u8darts[all]) (1.2)\n",
            "Requirement already satisfied: parso<0.9.0,>=0.8.0 in /usr/local/lib/python3.7/dist-packages (from jedi>=0.10->ipython==7.15.0->u8darts[all]) (0.8.1)\n",
            "Requirement already satisfied: ptyprocess>=0.5 in /usr/local/lib/python3.7/dist-packages (from pexpect; sys_platform != \"win32\"->ipython==7.15.0->u8darts[all]) (0.7.0)\n",
            "Requirement already satisfied: wcwidth in /usr/local/lib/python3.7/dist-packages (from prompt-toolkit!=3.0.0,!=3.0.1,<3.1.0,>=2.0.0->ipython==7.15.0->u8darts[all]) (0.2.5)\n",
            "Requirement already satisfied: ipython-genutils in /usr/local/lib/python3.7/dist-packages (from traitlets>=4.2->ipython==7.15.0->u8darts[all]) (0.2.0)\n",
            "Requirement already satisfied: pymeeus!=0.3.8,<=1,>=0.3.6 in /usr/local/lib/python3.7/dist-packages (from convertdate->holidays==0.10.2->u8darts[all]) (0.4.2)\n",
            "Requirement already satisfied: idna<3,>=2.5 in /usr/local/lib/python3.7/dist-packages (from requests<3,>=2.21.0->tensorboard==2.4.0; extra == \"all\"->u8darts[all]) (2.10)\n",
            "Requirement already satisfied: certifi>=2017.4.17 in /usr/local/lib/python3.7/dist-packages (from requests<3,>=2.21.0->tensorboard==2.4.0; extra == \"all\"->u8darts[all]) (2020.12.5)\n",
            "Requirement already satisfied: chardet<4,>=3.0.2 in /usr/local/lib/python3.7/dist-packages (from requests<3,>=2.21.0->tensorboard==2.4.0; extra == \"all\"->u8darts[all]) (3.0.4)\n",
            "Requirement already satisfied: rsa<5,>=3.1.4; python_version >= \"3.6\" in /usr/local/lib/python3.7/dist-packages (from google-auth<2,>=1.6.3->tensorboard==2.4.0; extra == \"all\"->u8darts[all]) (4.7.2)\n",
            "Requirement already satisfied: pyasn1-modules>=0.2.1 in /usr/local/lib/python3.7/dist-packages (from google-auth<2,>=1.6.3->tensorboard==2.4.0; extra == \"all\"->u8darts[all]) (0.2.8)\n",
            "Requirement already satisfied: cachetools<5.0,>=2.0.0 in /usr/local/lib/python3.7/dist-packages (from google-auth<2,>=1.6.3->tensorboard==2.4.0; extra == \"all\"->u8darts[all]) (4.2.1)\n",
            "Requirement already satisfied: requests-oauthlib>=0.7.0 in /usr/local/lib/python3.7/dist-packages (from google-auth-oauthlib<0.5,>=0.4.1->tensorboard==2.4.0; extra == \"all\"->u8darts[all]) (1.3.0)\n",
            "Requirement already satisfied: importlib-metadata; python_version < \"3.8\" in /usr/local/lib/python3.7/dist-packages (from markdown>=2.6.8->tensorboard==2.4.0; extra == \"all\"->u8darts[all]) (3.7.0)\n",
            "Requirement already satisfied: ephem>=3.7.5.3 in /usr/local/lib/python3.7/dist-packages (from LunarCalendar>=0.0.9->fbprophet==0.6; extra == \"all\"->u8darts[all]) (3.7.7.1)\n",
            "Requirement already satisfied: pyasn1>=0.1.3 in /usr/local/lib/python3.7/dist-packages (from rsa<5,>=3.1.4; python_version >= \"3.6\"->google-auth<2,>=1.6.3->tensorboard==2.4.0; extra == \"all\"->u8darts[all]) (0.4.8)\n",
            "Requirement already satisfied: oauthlib>=3.0.0 in /usr/local/lib/python3.7/dist-packages (from requests-oauthlib>=0.7.0->google-auth-oauthlib<0.5,>=0.4.1->tensorboard==2.4.0; extra == \"all\"->u8darts[all]) (3.1.0)\n",
            "Requirement already satisfied: zipp>=0.5 in /usr/local/lib/python3.7/dist-packages (from importlib-metadata; python_version < \"3.8\"->markdown>=2.6.8->tensorboard==2.4.0; extra == \"all\"->u8darts[all]) (3.4.0)\n",
            "Building wheels for collected packages: holidays, fbprophet\n",
            "  Building wheel for holidays (setup.py) ... \u001b[?25l\u001b[?25hdone\n",
            "  Created wheel for holidays: filename=holidays-0.10.2-cp37-none-any.whl size=111560 sha256=c4373b01f6d6f91058aa376c6142cd5ce3964f904e264ff67d26b8252a1a5b06\n",
            "  Stored in directory: /root/.cache/pip/wheels/68/55/29/95836cc75cbf85e6b7382e3e569613d6c050fcbe38d776ea64\n",
            "  Building wheel for fbprophet (setup.py) ... \u001b[?25l\u001b[?25hdone\n",
            "  Created wheel for fbprophet: filename=fbprophet-0.6-cp37-none-any.whl size=6613608 sha256=a9da3ba231ba9d4b16c86bdb830868478c002c84c1ec4a4f72f6202e8b2361ed\n",
            "  Stored in directory: /root/.cache/pip/wheels/2c/59/69/10ed740f4edb86e44e7c4d80537fbf3112dbc25f3624effba5\n",
            "Successfully built holidays fbprophet\n",
            "\u001b[31mERROR: tensorflow 2.4.1 has requirement numpy~=1.19.2, but you'll have numpy 1.19.0 which is incompatible.\u001b[0m\n",
            "\u001b[31mERROR: jupyter-console 5.2.0 has requirement prompt-toolkit<2.0.0,>=1.0.0, but you'll have prompt-toolkit 3.0.16 which is incompatible.\u001b[0m\n",
            "\u001b[31mERROR: google-colab 1.0.0 has requirement ipython~=5.5.0, but you'll have ipython 7.15.0 which is incompatible.\u001b[0m\n",
            "\u001b[31mERROR: datascience 0.10.6 has requirement folium==0.2.1, but you'll have folium 0.8.3 which is incompatible.\u001b[0m\n",
            "\u001b[31mERROR: albumentations 0.1.12 has requirement imgaug<0.2.7,>=0.2.5, but you'll have imgaug 0.2.9 which is incompatible.\u001b[0m\n",
            "Installing collected packages: numpy, scipy, pandas, statsmodels, prompt-toolkit, ipython, holidays, threadpoolctl, scikit-learn, tqdm, Cython, pmdarima, tensorboard, cmdstanpy, fbprophet, u8darts\n",
            "  Found existing installation: numpy 1.19.5\n",
            "    Uninstalling numpy-1.19.5:\n",
            "      Successfully uninstalled numpy-1.19.5\n",
            "  Found existing installation: scipy 1.4.1\n",
            "    Uninstalling scipy-1.4.1:\n",
            "      Successfully uninstalled scipy-1.4.1\n",
            "  Found existing installation: pandas 1.1.5\n",
            "    Uninstalling pandas-1.1.5:\n",
            "      Successfully uninstalled pandas-1.1.5\n",
            "  Found existing installation: statsmodels 0.10.2\n",
            "    Uninstalling statsmodels-0.10.2:\n",
            "      Successfully uninstalled statsmodels-0.10.2\n",
            "  Found existing installation: prompt-toolkit 1.0.18\n",
            "    Uninstalling prompt-toolkit-1.0.18:\n",
            "      Successfully uninstalled prompt-toolkit-1.0.18\n",
            "  Found existing installation: ipython 5.5.0\n",
            "    Uninstalling ipython-5.5.0:\n",
            "      Successfully uninstalled ipython-5.5.0\n",
            "  Found existing installation: holidays 0.10.5.2\n",
            "    Uninstalling holidays-0.10.5.2:\n",
            "      Successfully uninstalled holidays-0.10.5.2\n",
            "  Found existing installation: scikit-learn 0.22.2.post1\n",
            "    Uninstalling scikit-learn-0.22.2.post1:\n",
            "      Successfully uninstalled scikit-learn-0.22.2.post1\n",
            "  Found existing installation: tqdm 4.41.1\n",
            "    Uninstalling tqdm-4.41.1:\n",
            "      Successfully uninstalled tqdm-4.41.1\n",
            "  Found existing installation: Cython 0.29.22\n",
            "    Uninstalling Cython-0.29.22:\n",
            "      Successfully uninstalled Cython-0.29.22\n",
            "  Found existing installation: tensorboard 2.4.1\n",
            "    Uninstalling tensorboard-2.4.1:\n",
            "      Successfully uninstalled tensorboard-2.4.1\n",
            "  Found existing installation: cmdstanpy 0.9.5\n",
            "    Uninstalling cmdstanpy-0.9.5:\n",
            "      Successfully uninstalled cmdstanpy-0.9.5\n",
            "  Found existing installation: fbprophet 0.7.1\n",
            "    Uninstalling fbprophet-0.7.1:\n",
            "      Successfully uninstalled fbprophet-0.7.1\n",
            "Successfully installed Cython-0.29.17 cmdstanpy-0.4.0 fbprophet-0.6 holidays-0.10.2 ipython-7.15.0 numpy-1.19.0 pandas-1.1.0 pmdarima-1.6.1 prompt-toolkit-3.0.16 scikit-learn-0.23.2 scipy-1.5.0 statsmodels-0.11.1 tensorboard-2.4.0 threadpoolctl-2.1.0 tqdm-4.46.1 u8darts-0.6.1\n"
          ],
          "name": "stdout"
        },
        {
          "output_type": "display_data",
          "data": {
            "application/vnd.colab-display-data+json": {
              "pip_warning": {
                "packages": [
                  "IPython",
                  "numpy",
                  "pandas",
                  "prompt_toolkit"
                ]
              }
            }
          },
          "metadata": {
            "tags": []
          }
        }
      ]
    },
    {
      "cell_type": "code",
      "metadata": {
        "scrolled": false,
        "id": "A5PC0VMNZs7T"
      },
      "source": [
        "import pandas as pd\n",
        "import numpy as np\n",
        "import torch\n",
        "import matplotlib.pyplot as plt\n",
        "\n",
        "from darts import TimeSeries\n",
        "from darts.utils.timeseries_generation import gaussian_timeseries, linear_timeseries, sine_timeseries\n",
        "from darts.models import RNNModel, TCNModel, TransformerModel, NBEATSModel\n",
        "from darts.metrics import mape, smape\n",
        "from darts.dataprocessing.transformers import Scaler\n",
        "from darts.utils.timeseries_generation import datetime_attribute_timeseries\n",
        "\n",
        "torch.manual_seed(1); np.random.seed(1)  # for reproducibility"
      ],
      "execution_count": 1,
      "outputs": []
    },
    {
      "cell_type": "markdown",
      "metadata": {
        "id": "cBRCpFsbZs7U"
      },
      "source": [
        "### Read Data\n",
        "Let's start by reading two time series - one containing the monthly number of air passengers, and another containing the monthly milk production per cow. These time series have not much to do with each other, except that they both have a monthly frequency with a marked yearly periodicity and upward trend, and (completely coincidentaly) they contain values of a comparable order of magnitude."
      ]
    },
    {
      "cell_type": "code",
      "metadata": {
        "id": "S2wpJmMbZs7U"
      },
      "source": [
        "df_air = pd.read_csv('/content/AirPassengers.csv', delimiter=',')\n",
        "series_air = TimeSeries.from_dataframe(df_air, 'Month', ['#Passengers'])\n",
        "\n",
        "\n",
        "\n",
        "df_milk = pd.read_csv('/content/monthly-milk.csv', delimiter=',')\n",
        "series_milk = TimeSeries.from_dataframe(df_milk, 'Month', ['Pounds per cow'])\n",
        "\n",
        "series_air.plot(label='Number of air passengers')\n",
        "series_milk.plot(label='Pounds of milk produced per cow')\n",
        "plt.legend();"
      ],
      "execution_count": null,
      "outputs": []
    },
    {
      "cell_type": "code",
      "metadata": {
        "id": "5-0wifnmdI0g"
      },
      "source": [
        "df_527163 = pd.read_csv('/content/provision_527163.csv',delimiter=',')   \r\n",
        "df_527163.timestamp = pd.to_datetime(df_527163['timestamp'], format ='%d-%m-%y')\r\n",
        "df_527163 =df_527163.set_index(['timestamp'])\r\n",
        "df_527163 =df_527163.resample('M').ffill()\r\n",
        "df_527163 =df_527163.reset_index()\r\n",
        "series_527163 = TimeSeries.from_dataframe(df_527163,'timestamp', ['indication'])\r\n",
        "\r\n",
        "df_666668 = pd.read_csv('/content/provision_666668.csv',delimiter=',')   \r\n",
        "df_666668.timestamp = pd.to_datetime(df_527163['timestamp'], format ='%d-%m-%y')\r\n",
        "df_666668 =df_666668.set_index(['timestamp'])\r\n",
        "df_666668 =df_666668.resample('M').ffill()\r\n",
        "df_666668 =df_666668.reset_index()\r\n",
        "series_666668 = TimeSeries.from_dataframe(df_666668,'timestamp', ['indication'])\r\n",
        "\r\n",
        "df_534261 = pd.read_csv('/content/provision_534261.csv',delimiter=',')   \r\n",
        "df_534261.timestamp = pd.to_datetime(df_527163['timestamp'], format ='%d-%m-%y')\r\n",
        "df_534261 =df_534261.set_index(['timestamp'])\r\n",
        "df_534261 =df_534261.resample('M').ffill()\r\n",
        "df_534261 =df_534261.reset_index()\r\n",
        "series_534261 = TimeSeries.from_dataframe(df_534261,'timestamp', ['indication'])\r\n",
        "\r\n",
        "\r\n",
        "series_666668.plot(label='Indications_666668')\r\n",
        "series_534261.plot(label='Indications_534261')\r\n",
        "series_527163.plot(label='Indications_527163')\r\n",
        "plt.legend();\r\n"
      ],
      "execution_count": null,
      "outputs": []
    },
    {
      "cell_type": "markdown",
      "metadata": {
        "id": "GlLFabaYZs7V"
      },
      "source": [
        "### Preprocessing\n",
        "Usually neural networks tend to work better on normalised/standardised data. Here we'll use the `Scaler` class to normalise both of our time series between 0 and 1:"
      ]
    },
    {
      "cell_type": "code",
      "metadata": {
        "colab": {
          "base_uri": "https://localhost:8080/",
          "height": 278
        },
        "id": "yA1ZBgzkZs7W",
        "outputId": "af1495e6-626b-415f-fff2-1840f47c0c67"
      },
      "source": [
        "scaler_527163, scaler_534261, scaler_666668 = Scaler(), Scaler(), Scaler()\n",
        "series_527163_scaled = scaler_527163.fit_transform(series_527163)\n",
        "series_534261_scaled = scaler_534261.fit_transform(series_534261)\n",
        "series_666668_scaled = scaler_666668.fit_transform(series_666668)\n",
        "\n",
        "series_527163_scaled.plot(label='527163')\n",
        "series_534261_scaled.plot(label='534261')\n",
        "series_666668_scaled.plot(label='666668')\n",
        "plt.legend();"
      ],
      "execution_count": 20,
      "outputs": [
        {
          "output_type": "display_data",
          "data": {
            "image/png": "[encoded data removed]",
            "text/plain": [
              "<Figure size 432x288 with 1 Axes>"
            ]
          },
          "metadata": {
            "tags": [],
            "needs_background": "light"
          }
        }
      ]
    },
    {
      "cell_type": "markdown",
      "metadata": {
        "id": "ZDA5TENTZs7W"
      },
      "source": [
        "### Train / Validation split\n",
        "Let's keep the last 36 months of both series as validation:"
      ]
    },
    {
      "cell_type": "code",
      "metadata": {
        "id": "L6KLbnzCZs7W"
      },
      "source": [
        "train_527163, val_527163 = series_527163_scaled[:-36], series_527163_scaled[-36:]\n",
        "train_534261, val_534261 = series_534261_scaled[:-36], series_534261_scaled[-36:]\n",
        "train_666668, val_666668 = series_666668_scaled[:-36], series_666668_scaled[-36:]"
      ],
      "execution_count": 21,
      "outputs": []
    },
    {
      "cell_type": "markdown",
      "metadata": {
        "id": "l6TN1lEeZs7W"
      },
      "source": [
        "## Global Forecasting Models\n",
        "Darts contains many forecasting models, but not all of them can be trained on several time series. The models that support training on multiple series are called *global* models. At the time of writing, there are 4 global models:\n",
        "* RNNs\n",
        "* Temporal Convolutional Networks (TCNs)\n",
        "* N-Beats\n",
        "* Transformer model\n",
        "\n",
        "In the following, we will distinguish two sorts of time series:\n",
        "* The **target time series** is the time series we are interested to forecast (given its history)\n",
        "* A **covariate time series** is a time series which may help in the forecasting of the target series, but that we are not interested in forecasting. It's sometimes also called *external data*.\n",
        "\n",
        "All of the global models listed above support training on multiple series. In addition, they also all (except N-Beats) have multivariate and covariate support:\n",
        "* **multivariate support** means that they can seamlessly be used with time series of more than one dimension; the target series can contain one (as is often the case) or several dimensions. A time series with several dimensions is  really just a regular time series where the values at each time stamps are vectors instead of scalars.\n",
        "* **covariates support** means that they support receiving covariate series (external data) in inputs.\n",
        "\n",
        "Internally, these models contain a neural network that takes chunks of time series in input, and outputs chunks of (predicted) future time series values. The input dimensionality is the number of dimensions (components) of the target series, plus the number of components of all the covariates - stacked together. The output dimensionality is simply the number of dimensions of the target series:\n",
        "![](static/images/global_io_covs.png)\n",
        "\n",
        "The good news is that as a user, we don't have to worry about the different input/output dimensionalities; these are automatically inferred for us by the model based on the training data. Note that this means that the actual inner neural network model is only really created at training time.\n",
        "\n",
        "We'll still have to specify two important parameters when building our models:\n",
        "* `input_chunk_length`: this is the length of the lookback window of the model; so each output will be computed by the model by reading the previous `input_chunk_length` points.\n",
        "* `output_chunk_length`: this is the length of the outputs (forecasts) produced by the internal model. However, when no covariates are used, the `predict()` method of the \"outer\" Darts model (e.g., the one of `RNNModel`, `TCNModel`, etc) can be called for a longer time horizon. In these cases, if `predict()` is called for a horizon longer than `output_chunk_length`, the internal model will simply be called repeatedly, feeding on its own previous outputs in an auto-regressive fashion.\n",
        "\n",
        "### Example with One Series\n",
        "Let's look at a first example. We'll build an N-BEATS model that has a lookback window of 24 points (`input_chunk_length=24`) and predicts the next 12 points (`output_chunk_length=12`). We chose these values so it'll make our model produce successive predictions for one year at a time, looking at the past two years."
      ]
    },
    {
      "cell_type": "code",
      "metadata": {
        "id": "BQYo3v7jZs7X"
      },
      "source": [
        "model_527163 = NBEATSModel(input_chunk_length=24, output_chunk_length=12, n_epochs=200)"
      ],
      "execution_count": 22,
      "outputs": []
    },
    {
      "cell_type": "markdown",
      "metadata": {
        "id": "CE3JRdtjZs7X"
      },
      "source": [
        "This model can be used like any other Darts forecasting model, beeing fit on a single time series:"
      ]
    },
    {
      "cell_type": "code",
      "metadata": {
        "colab": {
          "base_uri": "https://localhost:8080/"
        },
        "id": "z5RztdrCZs7Y",
        "outputId": "5574ef95-6576-46a9-895d-04cc8c319309"
      },
      "source": [
        "model_527163.fit(train_527163, verbose=True)"
      ],
      "execution_count": 24,
      "outputs": [
        {
          "output_type": "stream",
          "text": [
            "[2021-03-03 00:32:52,310] INFO | darts.models.torch_forecasting_model | Train dataset contains 273 samples.\n",
            "[2021-03-03 00:32:52,310] INFO | darts.models.torch_forecasting_model | Train dataset contains 273 samples.\n",
            "  0%|          | 1/200 [00:01<05:48,  1.75s/it]"
          ],
          "name": "stderr"
        },
        {
          "output_type": "stream",
          "text": [
            "Training loss: 1.0010\r"
          ],
          "name": "stdout"
        },
        {
          "output_type": "stream",
          "text": [
            "  6%|▌         | 11/200 [00:17<04:47,  1.52s/it]"
          ],
          "name": "stderr"
        },
        {
          "output_type": "stream",
          "text": [
            "Training loss: 0.0014\r"
          ],
          "name": "stdout"
        },
        {
          "output_type": "stream",
          "text": [
            " 10%|█         | 21/200 [00:31<04:25,  1.49s/it]"
          ],
          "name": "stderr"
        },
        {
          "output_type": "stream",
          "text": [
            "Training loss: 0.0011\r"
          ],
          "name": "stdout"
        },
        {
          "output_type": "stream",
          "text": [
            " 16%|█▌        | 31/200 [00:48<05:42,  2.03s/it]"
          ],
          "name": "stderr"
        },
        {
          "output_type": "stream",
          "text": [
            "Training loss: 0.0010\r"
          ],
          "name": "stdout"
        },
        {
          "output_type": "stream",
          "text": [
            " 20%|██        | 41/200 [01:12<05:00,  1.89s/it]"
          ],
          "name": "stderr"
        },
        {
          "output_type": "stream",
          "text": [
            "Training loss: 0.0011\r"
          ],
          "name": "stdout"
        },
        {
          "output_type": "stream",
          "text": [
            " 26%|██▌       | 51/200 [01:27<03:44,  1.50s/it]"
          ],
          "name": "stderr"
        },
        {
          "output_type": "stream",
          "text": [
            "Training loss: 0.0012\r"
          ],
          "name": "stdout"
        },
        {
          "output_type": "stream",
          "text": [
            " 30%|███       | 61/200 [01:42<03:26,  1.49s/it]"
          ],
          "name": "stderr"
        },
        {
          "output_type": "stream",
          "text": [
            "Training loss: 0.0010\r"
          ],
          "name": "stdout"
        },
        {
          "output_type": "stream",
          "text": [
            " 36%|███▌      | 71/200 [01:57<03:06,  1.45s/it]"
          ],
          "name": "stderr"
        },
        {
          "output_type": "stream",
          "text": [
            "Training loss: 0.0009\r"
          ],
          "name": "stdout"
        },
        {
          "output_type": "stream",
          "text": [
            " 40%|████      | 81/200 [02:12<03:11,  1.61s/it]"
          ],
          "name": "stderr"
        },
        {
          "output_type": "stream",
          "text": [
            "Training loss: 0.0009\r"
          ],
          "name": "stdout"
        },
        {
          "output_type": "stream",
          "text": [
            " 46%|████▌     | 91/200 [02:33<03:50,  2.11s/it]"
          ],
          "name": "stderr"
        },
        {
          "output_type": "stream",
          "text": [
            "Training loss: 0.0010\r"
          ],
          "name": "stdout"
        },
        {
          "output_type": "stream",
          "text": [
            " 50%|█████     | 101/200 [02:55<03:46,  2.28s/it]"
          ],
          "name": "stderr"
        },
        {
          "output_type": "stream",
          "text": [
            "Training loss: 0.0011\r"
          ],
          "name": "stdout"
        },
        {
          "output_type": "stream",
          "text": [
            " 56%|█████▌    | 111/200 [03:17<03:05,  2.09s/it]"
          ],
          "name": "stderr"
        },
        {
          "output_type": "stream",
          "text": [
            "Training loss: 0.0010\r"
          ],
          "name": "stdout"
        },
        {
          "output_type": "stream",
          "text": [
            " 60%|██████    | 121/200 [03:36<02:35,  1.97s/it]"
          ],
          "name": "stderr"
        },
        {
          "output_type": "stream",
          "text": [
            "Training loss: 0.0011\r"
          ],
          "name": "stdout"
        },
        {
          "output_type": "stream",
          "text": [
            " 66%|██████▌   | 131/200 [03:56<02:16,  1.97s/it]"
          ],
          "name": "stderr"
        },
        {
          "output_type": "stream",
          "text": [
            "Training loss: 0.0009\r"
          ],
          "name": "stdout"
        },
        {
          "output_type": "stream",
          "text": [
            " 70%|███████   | 141/200 [04:16<01:57,  1.99s/it]"
          ],
          "name": "stderr"
        },
        {
          "output_type": "stream",
          "text": [
            "Training loss: 0.0010\r"
          ],
          "name": "stdout"
        },
        {
          "output_type": "stream",
          "text": [
            " 76%|███████▌  | 151/200 [04:36<01:37,  1.98s/it]"
          ],
          "name": "stderr"
        },
        {
          "output_type": "stream",
          "text": [
            "Training loss: 0.0011\r"
          ],
          "name": "stdout"
        },
        {
          "output_type": "stream",
          "text": [
            " 80%|████████  | 161/200 [04:56<01:18,  2.01s/it]"
          ],
          "name": "stderr"
        },
        {
          "output_type": "stream",
          "text": [
            "Training loss: 0.0011\r"
          ],
          "name": "stdout"
        },
        {
          "output_type": "stream",
          "text": [
            " 86%|████████▌ | 171/200 [05:17<01:00,  2.09s/it]"
          ],
          "name": "stderr"
        },
        {
          "output_type": "stream",
          "text": [
            "Training loss: 0.0011\r"
          ],
          "name": "stdout"
        },
        {
          "output_type": "stream",
          "text": [
            " 90%|█████████ | 181/200 [05:37<00:37,  2.00s/it]"
          ],
          "name": "stderr"
        },
        {
          "output_type": "stream",
          "text": [
            "Training loss: 0.0010\r"
          ],
          "name": "stdout"
        },
        {
          "output_type": "stream",
          "text": [
            " 96%|█████████▌| 191/200 [05:57<00:17,  1.99s/it]"
          ],
          "name": "stderr"
        },
        {
          "output_type": "stream",
          "text": [
            "Training loss: 0.0013\r"
          ],
          "name": "stdout"
        },
        {
          "output_type": "stream",
          "text": [
            "100%|██████████| 200/200 [06:15<00:00,  1.88s/it]\n"
          ],
          "name": "stderr"
        }
      ]
    },
    {
      "cell_type": "markdown",
      "metadata": {
        "id": "3tFbDrvkZs7Y"
      },
      "source": [
        "And like any other Darts forecasting models, we can then get a forecast by calling `predict()`. Note that below, we are calling `predict()` with a horizon of 36, which is longer than the model internal `output_chunk_length` of 12. That's not a problem here - as explained above, in such a case the internal model will simply be called auto-regressively on its own outputs. In this case, it will be called three times so that the three 12-points outputs make up the final 36-points forecast - but all of this is done transparently behind the scenes."
      ]
    },
    {
      "cell_type": "code",
      "metadata": {
        "colab": {
          "base_uri": "https://localhost:8080/",
          "height": 295
        },
        "id": "RU7lMw50Zs7Z",
        "outputId": "5db642b9-f42a-4f80-ea20-dde7dcea3c5b"
      },
      "source": [
        "pred = model_527163.predict(n=36)\n",
        "\n",
        "series_527163_scaled.plot(label='actual')\n",
        "pred.plot(label='forecast')\n",
        "plt.legend();\n",
        "print('MAPE = {:.2f}%'.format(mape(series_527163_scaled, pred)))"
      ],
      "execution_count": 25,
      "outputs": [
        {
          "output_type": "stream",
          "text": [
            "MAPE = 18061.98%\n"
          ],
          "name": "stdout"
        },
        {
          "output_type": "display_data",
          "data": {
            "image/png": "[encoded data removed]",
            "text/plain": [
              "<Figure size 432x288 with 1 Axes>"
            ]
          },
          "metadata": {
            "tags": [],
            "needs_background": "light"
          }
        }
      ]
    },
    {
      "cell_type": "markdown",
      "metadata": {
        "id": "W-uUJfWPZs7Z"
      },
      "source": [
        "### Training Process (behind the scenes)\n",
        "So what happened when we called `model_air.fit()` above?\n",
        "\n",
        "In order to train the internal neural network, Darts first makes a dataset of inputs/outputs examples from the provided time series (in this case: `series_air_scaled`). There are several ways this can be done and Darts contains a few different dataset implementations in the `darts.utils.data` package. \n",
        "\n",
        "By default, most models will instantiate a `darts.utils.data.SequentialDataset`, which simply builds all the consecutive pairs of input/output sub-sequences (of lengths `input_chunk_length` and `output_chunk_length`) existing in the series.\n",
        "\n",
        "For an example series of length 14, with `input_chunk_length=4` and `output_chunk_length=2`, it looks as follows:\n",
        "![](static/images/seq_dataset_one_ts.png)\n",
        "\n",
        "In the case of such a `SequentialDataset`, a series of length `N` would result in a \"training set\" of `N - input_chunk_length - output_chunk_length + 1` samples. In the toy example above, we have `N=14`, `input_chunk_length=4` and `output_chunk_length=2`, so the number of samples used for training would be K = 9. In this context, a training *epoch* consists in complete pass (possibly consisting of several mini-batches) over all these samples.\n",
        "\n",
        "Note that different models are susceptible to use different datasets by default. For instance, `darts.utils.data.HorizonBasedDataset` is inspired by the [N-BEATS paper](https://arxiv.org/abs/1905.10437) and produces samples that are \"close\" to the end of the series, possibly even ignoring the beginning of the series.\n",
        "\n",
        "If you have the need to control the way training samples are produced from `TimeSeries` instances, you can implement your own training dataset by inheriting the abstract `darts.utils.data.TrainingDataset` class. Darts datasets are inheriting from Python `Sequence`, which means that you can also implement lazy versions that do not load all data in memory at once. Once you have your own instance of a dataset, you can directly call the `fit_from_dataset()` method, which is supported by all global forecasting models.\n",
        "\n",
        "## Training a Model on Multiple Time Series\n",
        "All this machinery can be seamlessly used with multiple time series. Here's how a `SequentialDataset` with `input_chunk_length=4` and `output_chunk_length=2` looks for two series of lengths N and M:\n",
        "\n",
        "![](static/images/seq_dataset_multi_ts.png)\n",
        "\n",
        "Note a few things here:\n",
        "* The different series do not need to have the same length, or even to share the same time stamps.\n",
        "* In fact, they don't even need to have the same frequency.\n",
        "* The total number of samples in the training dataset will be the union of all the training samples contained in each series; so a training epoch will now span all samples from all series.\n",
        "\n",
        "\n",
        "### Training on Both Air Traffic and Milk Series\n",
        "Let's look at another example where we fit another model instance on our two time series (air passengers and milk production). Since using two series of (roughly) the same length (roughly) doubles the training dataset size, we will use half of the number of epochs:"
      ]
    },
    {
      "cell_type": "code",
      "metadata": {
        "id": "xLWJlUaOZs7Z"
      },
      "source": [
        "model_527163_534261_666668 = NBEATSModel(input_chunk_length=24, output_chunk_length=12, n_epochs=100)"
      ],
      "execution_count": 26,
      "outputs": []
    },
    {
      "cell_type": "markdown",
      "metadata": {
        "id": "VmcgbNDgZs7a"
      },
      "source": [
        "Then, fitting the model on two (or more) series is as simple as giving a list of series (instead of a single series) in argument to the `fit()` function:"
      ]
    },
    {
      "cell_type": "code",
      "metadata": {
        "colab": {
          "base_uri": "https://localhost:8080/"
        },
        "id": "U2giU0KvZs7a",
        "outputId": "5381fa46-3ecc-43e9-b73e-be12db4edbd0"
      },
      "source": [
        "model_527163_534261_666668.fit([train_527163, train_534261, train_666668], verbose=True)"
      ],
      "execution_count": 27,
      "outputs": [
        {
          "output_type": "stream",
          "text": [
            "[2021-03-03 00:42:22,043] INFO | darts.models.torch_forecasting_model | Train dataset contains 819 samples.\n",
            "[2021-03-03 00:42:22,043] INFO | darts.models.torch_forecasting_model | Train dataset contains 819 samples.\n",
            "  1%|          | 1/100 [00:04<06:50,  4.14s/it]"
          ],
          "name": "stderr"
        },
        {
          "output_type": "stream",
          "text": [
            "Training loss: 0.2171\r"
          ],
          "name": "stdout"
        },
        {
          "output_type": "stream",
          "text": [
            " 11%|█         | 11/100 [00:44<06:00,  4.05s/it]"
          ],
          "name": "stderr"
        },
        {
          "output_type": "stream",
          "text": [
            "Training loss: 0.0006\r"
          ],
          "name": "stdout"
        },
        {
          "output_type": "stream",
          "text": [
            " 21%|██        | 21/100 [01:25<05:18,  4.04s/it]"
          ],
          "name": "stderr"
        },
        {
          "output_type": "stream",
          "text": [
            "Training loss: 0.0005\r"
          ],
          "name": "stdout"
        },
        {
          "output_type": "stream",
          "text": [
            " 31%|███       | 31/100 [02:21<07:06,  6.18s/it]"
          ],
          "name": "stderr"
        },
        {
          "output_type": "stream",
          "text": [
            "Training loss: 0.0006\r"
          ],
          "name": "stdout"
        },
        {
          "output_type": "stream",
          "text": [
            " 41%|████      | 41/100 [03:20<05:39,  5.75s/it]"
          ],
          "name": "stderr"
        },
        {
          "output_type": "stream",
          "text": [
            "Training loss: 0.0004\r"
          ],
          "name": "stdout"
        },
        {
          "output_type": "stream",
          "text": [
            " 51%|█████     | 51/100 [04:17<04:37,  5.66s/it]"
          ],
          "name": "stderr"
        },
        {
          "output_type": "stream",
          "text": [
            "Training loss: 0.0004\r"
          ],
          "name": "stdout"
        },
        {
          "output_type": "stream",
          "text": [
            " 61%|██████    | 61/100 [05:15<03:45,  5.78s/it]"
          ],
          "name": "stderr"
        },
        {
          "output_type": "stream",
          "text": [
            "Training loss: 0.0005\r"
          ],
          "name": "stdout"
        },
        {
          "output_type": "stream",
          "text": [
            " 71%|███████   | 71/100 [06:11<02:45,  5.70s/it]"
          ],
          "name": "stderr"
        },
        {
          "output_type": "stream",
          "text": [
            "Training loss: 0.0004\r"
          ],
          "name": "stdout"
        },
        {
          "output_type": "stream",
          "text": [
            " 81%|████████  | 81/100 [07:10<01:52,  5.92s/it]"
          ],
          "name": "stderr"
        },
        {
          "output_type": "stream",
          "text": [
            "Training loss: 0.0004\r"
          ],
          "name": "stdout"
        },
        {
          "output_type": "stream",
          "text": [
            " 91%|█████████ | 91/100 [08:08<00:51,  5.77s/it]"
          ],
          "name": "stderr"
        },
        {
          "output_type": "stream",
          "text": [
            "Training loss: 0.0004\r"
          ],
          "name": "stdout"
        },
        {
          "output_type": "stream",
          "text": [
            "100%|██████████| 100/100 [08:59<00:00,  5.40s/it]\n"
          ],
          "name": "stderr"
        }
      ]
    },
    {
      "cell_type": "markdown",
      "metadata": {
        "id": "D5UtxoodZs7a"
      },
      "source": [
        "### Producing Forecasts After the End of a Series"
      ]
    },
    {
      "cell_type": "markdown",
      "metadata": {
        "id": "JcX-on8yZs7b"
      },
      "source": [
        "Now, importantly, when computing the forecasts we have to specify which time series we want to forecast the future for.\n",
        "\n",
        "We didn't have this constraint earlier. When fitting models on one series only, the model remembers this series internally, and if `predict()` is called without the `series` argument, it returns a forecast for the (unique) training series. This does not work anymore as soon as a model is fit on more than one series - in this case the `series` argument of `predict()` becomes mandatory.\n",
        "\n",
        "So, let's say we want to predict future of air traffic. In this case we specify `series=train_air` to the `predict()` function in order to say we want to get a forecast for what comes after `train_air`:"
      ]
    },
    {
      "cell_type": "code",
      "metadata": {
        "colab": {
          "base_uri": "https://localhost:8080/",
          "height": 615
        },
        "id": "dBakBW3fZs7b",
        "outputId": "6b90a5f5-b02f-4433-e620-3b1a1888fc87"
      },
      "source": [
        "pred = model_527163_534261_666668.predict(n=36, series=train_666668)\n",
        "\n",
        "series_666668_scaled.plot(label='actual')\n",
        "pred.plot(label='forecast')\n",
        "plt.legend();\n",
        "print('MAPE = {:.2f}%'.format(mape(series_666668_scaled, pred)))"
      ],
      "execution_count": 32,
      "outputs": [
        {
          "output_type": "stream",
          "text": [
            "[2021-03-03 00:54:46,355] ERROR | darts.metrics.metrics | ValueError: The actual series must be strictly positive to compute the MAPE.\n"
          ],
          "name": "stderr"
        },
        {
          "output_type": "error",
          "ename": "ValueError",
          "evalue": "ignored",
          "traceback": [
            "\u001b[0;31m---------------------------------------------------------------------------\u001b[0m",
            "\u001b[0;31mValueError\u001b[0m                                Traceback (most recent call last)",
            "\u001b[0;32m<ipython-input-32-7a9d733d5962>\u001b[0m in \u001b[0;36m<module>\u001b[0;34m\u001b[0m\n\u001b[1;32m      4\u001b[0m \u001b[0mpred\u001b[0m\u001b[0;34m.\u001b[0m\u001b[0mplot\u001b[0m\u001b[0;34m(\u001b[0m\u001b[0mlabel\u001b[0m\u001b[0;34m=\u001b[0m\u001b[0;34m'forecast'\u001b[0m\u001b[0;34m)\u001b[0m\u001b[0;34m\u001b[0m\u001b[0;34m\u001b[0m\u001b[0m\n\u001b[1;32m      5\u001b[0m \u001b[0mplt\u001b[0m\u001b[0;34m.\u001b[0m\u001b[0mlegend\u001b[0m\u001b[0;34m(\u001b[0m\u001b[0;34m)\u001b[0m\u001b[0;34m;\u001b[0m\u001b[0;34m\u001b[0m\u001b[0;34m\u001b[0m\u001b[0m\n\u001b[0;32m----> 6\u001b[0;31m \u001b[0mprint\u001b[0m\u001b[0;34m(\u001b[0m\u001b[0;34m'MAPE = {:.2f}%'\u001b[0m\u001b[0;34m.\u001b[0m\u001b[0mformat\u001b[0m\u001b[0;34m(\u001b[0m\u001b[0mmape\u001b[0m\u001b[0;34m(\u001b[0m\u001b[0mseries_666668_scaled\u001b[0m\u001b[0;34m,\u001b[0m \u001b[0mpred\u001b[0m\u001b[0;34m)\u001b[0m\u001b[0;34m)\u001b[0m\u001b[0;34m)\u001b[0m\u001b[0;34m\u001b[0m\u001b[0;34m\u001b[0m\u001b[0m\n\u001b[0m",
            "\u001b[0;32m/usr/local/lib/python3.7/dist-packages/darts/metrics/metrics.py\u001b[0m in \u001b[0;36mwrapper_multivariate_support\u001b[0;34m(*args, **kwargs)\u001b[0m\n\u001b[1;32m     39\u001b[0m         \u001b[0;32mfor\u001b[0m \u001b[0mi\u001b[0m \u001b[0;32min\u001b[0m \u001b[0mrange\u001b[0m\u001b[0;34m(\u001b[0m\u001b[0mseries1\u001b[0m\u001b[0;34m.\u001b[0m\u001b[0mwidth\u001b[0m\u001b[0;34m)\u001b[0m\u001b[0;34m:\u001b[0m\u001b[0;34m\u001b[0m\u001b[0;34m\u001b[0m\u001b[0m\n\u001b[1;32m     40\u001b[0m             value_list.append(func(series1.univariate_component(i), series2.univariate_component(i),\n\u001b[0;32m---> 41\u001b[0;31m                               *args[num_series_in_args:], **kwargs))\n\u001b[0m\u001b[1;32m     42\u001b[0m         \u001b[0;32mif\u001b[0m \u001b[0;34m'reduction'\u001b[0m \u001b[0;32min\u001b[0m \u001b[0mkwargs\u001b[0m\u001b[0;34m:\u001b[0m\u001b[0;34m\u001b[0m\u001b[0;34m\u001b[0m\u001b[0m\n\u001b[1;32m     43\u001b[0m             \u001b[0;32mreturn\u001b[0m \u001b[0mkwargs\u001b[0m\u001b[0;34m[\u001b[0m\u001b[0;34m'reduction'\u001b[0m\u001b[0;34m]\u001b[0m\u001b[0;34m(\u001b[0m\u001b[0mvalue_list\u001b[0m\u001b[0;34m)\u001b[0m\u001b[0;34m\u001b[0m\u001b[0;34m\u001b[0m\u001b[0m\n",
            "\u001b[0;32m/usr/local/lib/python3.7/dist-packages/darts/metrics/metrics.py\u001b[0m in \u001b[0;36mmape\u001b[0;34m(actual_series, pred_series, intersect, reduction)\u001b[0m\n\u001b[1;32m    299\u001b[0m     \u001b[0my_true\u001b[0m\u001b[0;34m,\u001b[0m \u001b[0my_hat\u001b[0m \u001b[0;34m=\u001b[0m \u001b[0m_get_values_or_raise\u001b[0m\u001b[0;34m(\u001b[0m\u001b[0mactual_series\u001b[0m\u001b[0;34m,\u001b[0m \u001b[0mpred_series\u001b[0m\u001b[0;34m,\u001b[0m \u001b[0mintersect\u001b[0m\u001b[0;34m)\u001b[0m\u001b[0;34m\u001b[0m\u001b[0;34m\u001b[0m\u001b[0m\n\u001b[1;32m    300\u001b[0m     \u001b[0my_true\u001b[0m\u001b[0;34m,\u001b[0m \u001b[0my_hat\u001b[0m \u001b[0;34m=\u001b[0m \u001b[0m_remove_nan_union\u001b[0m\u001b[0;34m(\u001b[0m\u001b[0my_true\u001b[0m\u001b[0;34m,\u001b[0m \u001b[0my_hat\u001b[0m\u001b[0;34m)\u001b[0m\u001b[0;34m\u001b[0m\u001b[0;34m\u001b[0m\u001b[0m\n\u001b[0;32m--> 301\u001b[0;31m     \u001b[0mraise_if_not\u001b[0m\u001b[0;34m(\u001b[0m\u001b[0;34m(\u001b[0m\u001b[0my_true\u001b[0m \u001b[0;34m!=\u001b[0m \u001b[0;36m0\u001b[0m\u001b[0;34m)\u001b[0m\u001b[0;34m.\u001b[0m\u001b[0mall\u001b[0m\u001b[0;34m(\u001b[0m\u001b[0;34m)\u001b[0m\u001b[0;34m,\u001b[0m \u001b[0;34m'The actual series must be strictly positive to compute the MAPE.'\u001b[0m\u001b[0;34m,\u001b[0m \u001b[0mlogger\u001b[0m\u001b[0;34m)\u001b[0m\u001b[0;34m\u001b[0m\u001b[0;34m\u001b[0m\u001b[0m\n\u001b[0m\u001b[1;32m    302\u001b[0m     \u001b[0;32mreturn\u001b[0m \u001b[0;36m100.\u001b[0m \u001b[0;34m*\u001b[0m \u001b[0mnp\u001b[0m\u001b[0;34m.\u001b[0m\u001b[0mmean\u001b[0m\u001b[0;34m(\u001b[0m\u001b[0mnp\u001b[0m\u001b[0;34m.\u001b[0m\u001b[0mabs\u001b[0m\u001b[0;34m(\u001b[0m\u001b[0;34m(\u001b[0m\u001b[0my_true\u001b[0m \u001b[0;34m-\u001b[0m \u001b[0my_hat\u001b[0m\u001b[0;34m)\u001b[0m \u001b[0;34m/\u001b[0m \u001b[0my_true\u001b[0m\u001b[0;34m)\u001b[0m\u001b[0;34m)\u001b[0m\u001b[0;34m\u001b[0m\u001b[0;34m\u001b[0m\u001b[0m\n\u001b[1;32m    303\u001b[0m \u001b[0;34m\u001b[0m\u001b[0m\n",
            "\u001b[0;32m/usr/local/lib/python3.7/dist-packages/darts/logging.py\u001b[0m in \u001b[0;36mraise_if_not\u001b[0;34m(condition, message, logger)\u001b[0m\n\u001b[1;32m     52\u001b[0m     \u001b[0;32mif\u001b[0m \u001b[0;34m(\u001b[0m\u001b[0;32mnot\u001b[0m \u001b[0mcondition\u001b[0m\u001b[0;34m)\u001b[0m\u001b[0;34m:\u001b[0m\u001b[0;34m\u001b[0m\u001b[0;34m\u001b[0m\u001b[0m\n\u001b[1;32m     53\u001b[0m         \u001b[0mlogger\u001b[0m\u001b[0;34m.\u001b[0m\u001b[0merror\u001b[0m\u001b[0;34m(\u001b[0m\u001b[0;34m\"ValueError: \"\u001b[0m \u001b[0;34m+\u001b[0m \u001b[0mmessage\u001b[0m\u001b[0;34m)\u001b[0m\u001b[0;34m\u001b[0m\u001b[0;34m\u001b[0m\u001b[0m\n\u001b[0;32m---> 54\u001b[0;31m         \u001b[0;32mraise\u001b[0m \u001b[0mValueError\u001b[0m\u001b[0;34m(\u001b[0m\u001b[0mmessage\u001b[0m\u001b[0;34m)\u001b[0m\u001b[0;34m\u001b[0m\u001b[0;34m\u001b[0m\u001b[0m\n\u001b[0m\u001b[1;32m     55\u001b[0m \u001b[0;34m\u001b[0m\u001b[0m\n\u001b[1;32m     56\u001b[0m \u001b[0;34m\u001b[0m\u001b[0m\n",
            "\u001b[0;31mValueError\u001b[0m: The actual series must be strictly positive to compute the MAPE."
          ]
        },
        {
          "output_type": "display_data",
          "data": {
            "image/png": "[encoded data removed]",
            "text/plain": [
              "<Figure size 432x288 with 1 Axes>"
            ]
          },
          "metadata": {
            "tags": [],
            "needs_background": "light"
          }
        }
      ]
    },
    {
      "cell_type": "markdown",
      "metadata": {
        "id": "mAPweStuZs7b"
      },
      "source": [
        "## Wait... does this mean that milk consumption helps to predict air traffic??\n",
        "Well, in this particular instance with this model, it seems to be the case (at least in terms of MAPE error). This is not so weird if you think about it, though. Air traffic is heavily characterized by the yearly seasonality and upward trend. The milk series exhibits these two traits as well, and in this case it's probably helping the model to capture them.\n",
        "\n",
        "Note that this points towards the possibility of *pre-training* forecasting models; training models once and for all and later using them to forecast series that are not in the train set.\n",
        "With our toy model we can really forecast the future values of any other series, even series never seen during training. For the sake of example, let's say we want to forecast the future of some arbitrary sine wave series:"
      ]
    },
    {
      "cell_type": "code",
      "metadata": {
        "colab": {
          "base_uri": "https://localhost:8080/",
          "height": 264
        },
        "id": "HRBadYoAZs7b",
        "outputId": "70ee34ea-4caa-4828-9868-d306895741df"
      },
      "source": [
        "any_series = sine_timeseries(length=50, freq='M')\n",
        "pred = model_527163_534261_666668.predict(n=36, series=any_series)\n",
        "\n",
        "any_series.plot(label='\"any series, really\"')\n",
        "pred.plot(label='forecast')\n",
        "plt.legend();"
      ],
      "execution_count": 33,
      "outputs": [
        {
          "output_type": "display_data",
          "data": {
            "image/png": "[encoded data removed]",
            "text/plain": [
              "<Figure size 432x288 with 1 Axes>"
            ]
          },
          "metadata": {
            "tags": [],
            "needs_background": "light"
          }
        }
      ]
    },
    {
      "cell_type": "markdown",
      "metadata": {
        "id": "ASUNAuWPZs7b"
      },
      "source": [
        "This forecast isn't good (the sine doesn't even have a yearly seasonality), but you get the idea.\n",
        "\n",
        "Similar to what is supported by the `fit()` function, we can also give a list of series in argument to the `predict()` function, in which case it will return a list of forecast series. For example, we can get the forecasts for both the air traffic and the milk series in one go as follows:"
      ]
    },
    {
      "cell_type": "code",
      "metadata": {
        "colab": {
          "base_uri": "https://localhost:8080/",
          "height": 264
        },
        "id": "KswPW20NZs7c",
        "outputId": "549d7d8d-5a7b-4dc5-9fd0-8f90dfb5e280"
      },
      "source": [
        "pred_list = model_527163_534261_666668.predict(n=36, series=[train_527163, train_534261, train_666668])\n",
        "for series, label  in zip(pred_list, ['527163', '534261','666668']):\n",
        "    series.plot(label=f'forecast {label}')\n",
        "plt.legend();"
      ],
      "execution_count": 34,
      "outputs": [
        {
          "output_type": "display_data",
          "data": {
            "image/png": "[encoded data removed]",
            "text/plain": [
              "<Figure size 432x288 with 1 Axes>"
            ]
          },
          "metadata": {
            "tags": [],
            "needs_background": "light"
          }
        }
      ]
    },
    {
      "cell_type": "markdown",
      "metadata": {
        "id": "IEpYPjSBZs7c"
      },
      "source": [
        "The two series returned correspond to the forecasts after then end of `train_air` and `train_milk`, respectively."
      ]
    },
    {
      "cell_type": "markdown",
      "metadata": {
        "id": "nwTLvev6Zs7c"
      },
      "source": [
        "## Covariates Series\n",
        "\n",
        "Until now, we have only been playing with models that only use the history of the *target* series to predict its future. However, as explained above, the global Darts models also support the use of *covariates* time series. These are time series of \"external data\", which we are not necessarily interested in predicting, but which we would still like to feed as input of our models because they can contain valuable information.\n",
        "\n",
        "#### Building Covariates\n",
        "Let's see a simple example with our air and milk series, where we'll try to use the year and month-of-the-year as covariates:"
      ]
    },
    {
      "cell_type": "code",
      "metadata": {
        "id": "1OnpjCudZs7c"
      },
      "source": [
        "# build year and month series:\n",
        "_year = datetime_attribute_timeseries(series_air_scaled, attribute='year')\n",
        "air_month = datetime_attribute_timeseries(series_air_scaled, attribute='month')\n",
        "\n",
        "milk_year = datetime_attribute_timeseries(series_milk_scaled, attribute='year')\n",
        "milk_month = datetime_attribute_timeseries(series_milk_scaled, attribute='month')\n",
        "\n",
        "# stack year and month to obtain series of 2 dimensions (year and month):\n",
        "air_covariates = air_year.stack(air_month)\n",
        "milk_covariates = milk_year.stack(milk_month)\n",
        "\n",
        "# scale them between 0 and 1:\n",
        "scaler_dt_air = Scaler()\n",
        "air_covariates = scaler_dt_air.fit_transform(air_covariates)\n",
        "\n",
        "scaler_dt_milk = Scaler()\n",
        "milk_covariates = scaler_dt_milk.fit_transform(milk_covariates)\n",
        "\n",
        "# split in train/validation sets:\n",
        "air_train_covariates, air_val_covariates = air_covariates[:-36], air_covariates[-36:]\n",
        "milk_train_covariates, milk_val_covariates = milk_covariates[:-36], milk_covariates[-36:]\n",
        "\n",
        "# plot the covariates:\n",
        "plt.figure();\n",
        "air_covariates.plot();\n",
        "plt.title('Air traffic covariates (year and month)');\n",
        "\n",
        "plt.figure();\n",
        "milk_covariates.plot();\n",
        "plt.title('Milk production covariates (year and month)');"
      ],
      "execution_count": null,
      "outputs": []
    },
    {
      "cell_type": "markdown",
      "metadata": {
        "id": "oHd9Cak3Zs7d"
      },
      "source": [
        "Good, so for each target series (air and milk), we have built a covariates series having the same time axis and containing the year and the month.\n",
        "\n",
        "Note that here the covariates series are **multivariate time series**: they contain two dimensions - one dimension for the year and one for the month.\n",
        "\n",
        "### Training with Covariates\n",
        "Let's revisit our example again, this time with covariates. We will build an `RNNModel` because at the time of writing `NBEATSModel` doesn't yet support covariates."
      ]
    },
    {
      "cell_type": "code",
      "metadata": {
        "id": "bI1-Ue9uZs7d"
      },
      "source": [
        "model_cov = RNNModel(input_chunk_length=24, output_chunk_length=12, n_epochs=300)"
      ],
      "execution_count": null,
      "outputs": []
    },
    {
      "cell_type": "markdown",
      "metadata": {
        "id": "1U0Nf_7cZs7d"
      },
      "source": [
        "Now, to train the model with covariates, it is as simple as providing the covariates (in form of a list matching the target series) as `covariates` argument to the `fit()` function:"
      ]
    },
    {
      "cell_type": "code",
      "metadata": {
        "colab": {
          "referenced_widgets": [
            "1f301bef97444931989cde1cbdaabef2"
          ]
        },
        "id": "ejvdjhfCZs7d",
        "outputId": "0a15bfc0-2c7a-42a7-86f5-d952413a2d49"
      },
      "source": [
        "model_cov.fit(series=[train_air, train_milk], \n",
        "              covariates=[air_train_covariates, milk_train_covariates], \n",
        "              verbose=True)"
      ],
      "execution_count": null,
      "outputs": [
        {
          "output_type": "stream",
          "text": [
            "[2021-01-20 21:11:12,009] INFO | darts.models.torch_forecasting_model | Train dataset contains 194 samples.\n",
            "[2021-01-20 21:11:12,009] INFO | darts.models.torch_forecasting_model | Train dataset contains 194 samples.\n"
          ],
          "name": "stderr"
        },
        {
          "output_type": "display_data",
          "data": {
            "application/vnd.jupyter.widget-view+json": {
              "model_id": "1f301bef97444931989cde1cbdaabef2",
              "version_major": 2,
              "version_minor": 0
            },
            "text/plain": [
              "HBox(children=(FloatProgress(value=0.0, max=300.0), HTML(value='')))"
            ]
          },
          "metadata": {
            "tags": []
          }
        },
        {
          "output_type": "stream",
          "text": [
            "Training loss: 0.0019\n"
          ],
          "name": "stdout"
        }
      ]
    },
    {
      "cell_type": "markdown",
      "metadata": {
        "id": "uJkcVqA7Zs7d"
      },
      "source": [
        "### Forecasting with Covariates\n",
        "similarly, getting a forecast is now only a matter of specifying the `covariates` argument to the `predict()` function."
      ]
    },
    {
      "cell_type": "code",
      "metadata": {
        "id": "tLI0pa-zZs7d",
        "outputId": "eef32b12-7d7e-4ec0-c799-859350afdd87"
      },
      "source": [
        "pred_cov = model_cov.predict(n=12, \n",
        "                             series=train_air, \n",
        "                             covariates=air_train_covariates)\n",
        "\n",
        "series_air_scaled.plot(label='actual')\n",
        "pred_cov.plot(label='forecast')\n",
        "plt.legend();"
      ],
      "execution_count": null,
      "outputs": [
        {
          "output_type": "display_data",
          "data": {
            "image/png": "[encoded data removed]",
            "text/plain": [
              "<Figure size 432x288 with 1 Axes>"
            ]
          },
          "metadata": {
            "tags": [],
            "needs_background": "light"
          }
        }
      ]
    },
    {
      "cell_type": "markdown",
      "metadata": {
        "id": "bigFE52eZs7e"
      },
      "source": [
        "The main catch above is that we cannot directly call `predict()` with a horizon `n` larger than the `output_chunk_length` we trained our model with. This is because when covariates are used, we cannot use the auto-regressive \"trick\" where we call the model iteratively on its own output, because in this case we do not have the corresponding covariates.\n",
        "\n",
        "### Backtesting with Covariates\n",
        "We can still backtest the model using covariates. Say for instance we are interested in evaluating the running accuracy with a horizon of 12 months, starting at 75% of the air series:"
      ]
    },
    {
      "cell_type": "code",
      "metadata": {
        "colab": {
          "referenced_widgets": [
            "278a3c95491a4d11bccee07c91e4715a"
          ]
        },
        "id": "00Qi08JSZs7e",
        "outputId": "8e3098d8-4efa-4eae-b2ed-cf3fc0c33b33"
      },
      "source": [
        "backtest_cov = model_cov.historical_forecasts(series_air_scaled,\n",
        "                                              covariates=air_covariates,\n",
        "                                              start=0.6,\n",
        "                                              forecast_horizon=12,\n",
        "                                              stride=1,\n",
        "                                              retrain=False,\n",
        "                                              verbose=True)\n",
        "\n",
        "series_air_scaled.plot(label='actual')\n",
        "backtest_cov.plot(label='forecast')\n",
        "plt.legend();\n",
        "print('MAPE (using covariates) = {:.2f}%'.format(mape(series_air_scaled, backtest_cov)))"
      ],
      "execution_count": null,
      "outputs": [
        {
          "output_type": "display_data",
          "data": {
            "application/vnd.jupyter.widget-view+json": {
              "model_id": "278a3c95491a4d11bccee07c91e4715a",
              "version_major": 2,
              "version_minor": 0
            },
            "text/plain": [
              "HBox(children=(FloatProgress(value=0.0, max=47.0), HTML(value='')))"
            ]
          },
          "metadata": {
            "tags": []
          }
        },
        {
          "output_type": "stream",
          "text": [
            "\n",
            "MAPE (using covariates) = 8.22%\n"
          ],
          "name": "stdout"
        },
        {
          "output_type": "display_data",
          "data": {
            "image/png": "[encoded data removed]",
            "text/plain": [
              "<Figure size 432x288 with 1 Axes>"
            ]
          },
          "metadata": {
            "tags": [],
            "needs_background": "light"
          }
        }
      ]
    },
    {
      "cell_type": "markdown",
      "metadata": {
        "id": "KFfrkrPMZs7e"
      },
      "source": [
        "### Current Limitations, Future Covariates and Other Conditioning\n",
        "At the moment Darts supports covariates that are themselves time series. Furthermore, these time must share the same time axes as the target series. The only real difference is that these covariates series will only be used as inputs of the model and not as outputs. \n",
        "\n",
        "However, even though the covariates and targets are required to share their time axis, the covariates can still represent known future values. For instance, if the target is influenced by some external factor (such as, say, the weather) and the weather is known 7 days in advance, then the covariates series can simply be built so that its value at time T represents the \"week ahead\" forecast for T+7 (this can simply be done by shifting the original series).\n",
        "\n",
        "At the time of writing, Darts does not support covariates that are not time series - such as for instance class label informations or other conditioning variables. One trivial (although likely suboptimal) way to go around this is to build time series filled with constant values encoding the class labels. Supporting more general types of conditioning is a future feature on the Darts development roadmap."
      ]
    },
    {
      "cell_type": "code",
      "metadata": {
        "id": "DGnI4IDsZs7e"
      },
      "source": [
        ""
      ],
      "execution_count": null,
      "outputs": []
    }
  ]
}