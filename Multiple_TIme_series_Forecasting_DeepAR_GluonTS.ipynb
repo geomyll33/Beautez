{
  "nbformat": 4,
  "nbformat_minor": 0,
  "metadata": {
    "colab": {
      "name": "Multiple TIme series Forecasting DeepAR GluonTS.ipynb",
      "provenance": [],
      "authorship_tag": "ABX9TyMb6EkRrGRxQnvmBC8TkzjH",
      "include_colab_link": true
    },
    "kernelspec": {
      "name": "python3",
      "display_name": "Python 3"
    }
  },
  "cells": [
    {
      "cell_type": "markdown",
      "metadata": {
        "id": "view-in-github",
        "colab_type": "text"
      },
      "source": [
        "<a href=\"https://colab.research.google.com/github/geomyll33/Beautez/blob/master/Multiple_TIme_series_Forecasting_DeepAR_GluonTS.ipynb\" target=\"_parent\"><img src=\"https://colab.research.google.com/assets/colab-badge.svg\" alt=\"Open In Colab\"/></a>"
      ]
    },
    {
      "cell_type": "code",
      "metadata": {
        "colab": {
          "base_uri": "https://localhost:8080/"
        },
        "id": "XEASni6ca677",
        "outputId": "500d385a-4248-41c2-df51-b273b89acbab"
      },
      "source": [
        "!pip install --upgrade mxnet==1.6.0\r\n",
        "!pip install gluonts"
      ],
      "execution_count": 1,
      "outputs": [
        {
          "output_type": "stream",
          "text": [
            "Collecting mxnet==1.6.0\n",
            "\u001b[?25l  Downloading https://files.pythonhosted.org/packages/81/f5/d79b5b40735086ff1100c680703e0f3efc830fa455e268e9e96f3c857e93/mxnet-1.6.0-py2.py3-none-any.whl (68.7MB)\n",
            "\u001b[K     |████████████████████████████████| 68.7MB 67kB/s \n",
            "\u001b[?25hRequirement already satisfied, skipping upgrade: numpy<2.0.0,>1.16.0 in /usr/local/lib/python3.7/dist-packages (from mxnet==1.6.0) (1.19.5)\n",
            "Requirement already satisfied, skipping upgrade: requests<3,>=2.20.0 in /usr/local/lib/python3.7/dist-packages (from mxnet==1.6.0) (2.23.0)\n",
            "Collecting graphviz<0.9.0,>=0.8.1\n",
            "  Downloading https://files.pythonhosted.org/packages/53/39/4ab213673844e0c004bed8a0781a0721a3f6bb23eb8854ee75c236428892/graphviz-0.8.4-py2.py3-none-any.whl\n",
            "Requirement already satisfied, skipping upgrade: idna<3,>=2.5 in /usr/local/lib/python3.7/dist-packages (from requests<3,>=2.20.0->mxnet==1.6.0) (2.10)\n",
            "Requirement already satisfied, skipping upgrade: urllib3!=1.25.0,!=1.25.1,<1.26,>=1.21.1 in /usr/local/lib/python3.7/dist-packages (from requests<3,>=2.20.0->mxnet==1.6.0) (1.24.3)\n",
            "Requirement already satisfied, skipping upgrade: certifi>=2017.4.17 in /usr/local/lib/python3.7/dist-packages (from requests<3,>=2.20.0->mxnet==1.6.0) (2020.12.5)\n",
            "Requirement already satisfied, skipping upgrade: chardet<4,>=3.0.2 in /usr/local/lib/python3.7/dist-packages (from requests<3,>=2.20.0->mxnet==1.6.0) (3.0.4)\n",
            "Installing collected packages: graphviz, mxnet\n",
            "  Found existing installation: graphviz 0.10.1\n",
            "    Uninstalling graphviz-0.10.1:\n",
            "      Successfully uninstalled graphviz-0.10.1\n",
            "Successfully installed graphviz-0.8.4 mxnet-1.6.0\n",
            "Collecting gluonts\n",
            "\u001b[?25l  Downloading https://files.pythonhosted.org/packages/2a/bf/66218eb5dcbd52d63e7ea3cb36bf6780cd639806fd9b7c7fc5c6074d4f10/gluonts-0.6.7-py3-none-any.whl (569kB)\n",
            "\u001b[K     |████████████████████████████████| 573kB 5.0MB/s \n",
            "\u001b[?25hRequirement already satisfied: numpy~=1.16 in /usr/local/lib/python3.7/dist-packages (from gluonts) (1.19.5)\n",
            "Requirement already satisfied: pandas>=1.0 in /usr/local/lib/python3.7/dist-packages (from gluonts) (1.1.5)\n",
            "Collecting pydantic<1.7,~=1.1\n",
            "\u001b[?25l  Downloading https://files.pythonhosted.org/packages/5a/3f/46cf26973edfa26503e326e153e6d68c41876d453d87809a1bda4b9c28cf/pydantic-1.6.1-cp37-cp37m-manylinux2014_x86_64.whl (8.6MB)\n",
            "\u001b[K     |████████████████████████████████| 8.6MB 25.9MB/s \n",
            "\u001b[?25hRequirement already satisfied: holidays>=0.9 in /usr/local/lib/python3.7/dist-packages (from gluonts) (0.10.5.2)\n",
            "Requirement already satisfied: toolz~=0.10 in /usr/local/lib/python3.7/dist-packages (from gluonts) (0.11.1)\n",
            "Requirement already satisfied: matplotlib~=3.0 in /usr/local/lib/python3.7/dist-packages (from gluonts) (3.2.2)\n",
            "Collecting ujson~=1.35\n",
            "\u001b[?25l  Downloading https://files.pythonhosted.org/packages/16/c4/79f3409bc710559015464e5f49b9879430d8f87498ecdc335899732e5377/ujson-1.35.tar.gz (192kB)\n",
            "\u001b[K     |████████████████████████████████| 194kB 32.5MB/s \n",
            "\u001b[?25hRequirement already satisfied: tqdm~=4.23 in /usr/local/lib/python3.7/dist-packages (from gluonts) (4.41.1)\n",
            "Requirement already satisfied: python-dateutil>=2.7.3 in /usr/local/lib/python3.7/dist-packages (from pandas>=1.0->gluonts) (2.8.1)\n",
            "Requirement already satisfied: pytz>=2017.2 in /usr/local/lib/python3.7/dist-packages (from pandas>=1.0->gluonts) (2018.9)\n",
            "Requirement already satisfied: convertdate>=2.3.0 in /usr/local/lib/python3.7/dist-packages (from holidays>=0.9->gluonts) (2.3.1)\n",
            "Requirement already satisfied: six in /usr/local/lib/python3.7/dist-packages (from holidays>=0.9->gluonts) (1.15.0)\n",
            "Requirement already satisfied: hijri-converter in /usr/local/lib/python3.7/dist-packages (from holidays>=0.9->gluonts) (2.1.1)\n",
            "Requirement already satisfied: korean-lunar-calendar in /usr/local/lib/python3.7/dist-packages (from holidays>=0.9->gluonts) (0.2.1)\n",
            "Requirement already satisfied: pyparsing!=2.0.4,!=2.1.2,!=2.1.6,>=2.0.1 in /usr/local/lib/python3.7/dist-packages (from matplotlib~=3.0->gluonts) (2.4.7)\n",
            "Requirement already satisfied: kiwisolver>=1.0.1 in /usr/local/lib/python3.7/dist-packages (from matplotlib~=3.0->gluonts) (1.3.1)\n",
            "Requirement already satisfied: cycler>=0.10 in /usr/local/lib/python3.7/dist-packages (from matplotlib~=3.0->gluonts) (0.10.0)\n",
            "Requirement already satisfied: pymeeus!=0.3.8,<=1,>=0.3.6 in /usr/local/lib/python3.7/dist-packages (from convertdate>=2.3.0->holidays>=0.9->gluonts) (0.5.9)\n",
            "Building wheels for collected packages: ujson\n",
            "  Building wheel for ujson (setup.py) ... \u001b[?25l\u001b[?25hdone\n",
            "  Created wheel for ujson: filename=ujson-1.35-cp37-cp37m-linux_x86_64.whl size=68391 sha256=b805d046c9f1af22d3d3d72bb87fc8c47ae272eddc85e2ce3126a91b42da9ccb\n",
            "  Stored in directory: /root/.cache/pip/wheels/28/77/e4/0311145b9c2e2f01470e744855131f9e34d6919687550f87d1\n",
            "Successfully built ujson\n",
            "Installing collected packages: pydantic, ujson, gluonts\n",
            "Successfully installed gluonts-0.6.7 pydantic-1.6.1 ujson-1.35\n"
          ],
          "name": "stdout"
        }
      ]
    },
    {
      "cell_type": "code",
      "metadata": {
        "id": "PfekVMjRbO0Q"
      },
      "source": [
        "import pandas as pd\r\n",
        "import matplotlib.pyplot as mpl\r\n",
        "import matplotlib.pyplot as plt\r\n",
        "from gluonts.model.deepar import DeepAREstimator\r\n",
        "from gluonts.trainer import Trainer\r\n",
        "import numpy as np\r\n",
        "mpl.rcParams['figure.figsize']=(10,8)\r\n",
        "mpl.rcParams['axes.grid']=False"
      ],
      "execution_count": 4,
      "outputs": []
    },
    {
      "cell_type": "code",
      "metadata": {
        "id": "bOzCN1ENcsrX"
      },
      "source": [
        "fig,axs=plt.subplots(5,2,figsize=(20,20),sharex=True)\r\n",
        "axx=axs.ravel()\r\n",
        "for i in range(0,10):\r\n",
        "  df[df.columns[i]].loc['2014-12-01':'2014-12-14'].plot(ax=axx[i])\r\n",
        "  axx[i].set_xlabel('date')\r\n",
        "  axx[i].set_ylabel('KW consuption')\r\n",
        "  axx[i].grid(which='minor',axis='x')"
      ],
      "execution_count": null,
      "outputs": []
    },
    {
      "cell_type": "code",
      "metadata": {
        "id": "yGUlICZTdont"
      },
      "source": [
        "df=df.reset_index(drop=True).T.reset_index()#raws to columns"
      ],
      "execution_count": null,
      "outputs": []
    },
    {
      "cell_type": "code",
      "metadata": {
        "id": "wxX8C6P0elBC"
      },
      "source": [
        "ts_code=df['index'].astype('category').cat.codes.values#tranform index to categorical labels"
      ],
      "execution_count": null,
      "outputs": []
    },
    {
      "cell_type": "code",
      "metadata": {
        "id": "hinSWi8CfCKj"
      },
      "source": [
        "df_train=df.iloc[:,1:134999].values#shape is 370X140257 do not shuffle!!\r\n",
        "df_test=df.iloc[:,134999:].values"
      ],
      "execution_count": null,
      "outputs": []
    },
    {
      "cell_type": "code",
      "metadata": {
        "id": "Cggj3p_lkUvf"
      },
      "source": [
        "df_train.shape"
      ],
      "execution_count": null,
      "outputs": []
    },
    {
      "cell_type": "code",
      "metadata": {
        "id": "fGE5HY8rka-7"
      },
      "source": [
        "df_test.shape"
      ],
      "execution_count": null,
      "outputs": []
    },
    {
      "cell_type": "code",
      "metadata": {
        "id": "CCouevA1fieN"
      },
      "source": [
        "freq='15'\r\n",
        "start_train=pd.Timestamp('2011-01-01 00:15:00', freq=freq)\r\n",
        "start_test=pd.Timestamp('2014-11-07 05:30:00',freq=freq)\r\n",
        "prediction=672"
      ],
      "execution_count": null,
      "outputs": []
    },
    {
      "cell_type": "code",
      "metadata": {
        "id": "zxHN5sVFgYdC"
      },
      "source": [
        "estimator=DeepAREstimator(freq=freq,\r\n",
        "                          context_length=672,\r\n",
        "                          prediction_length=prediction_length,\r\n",
        "                          use_feat_static_cat=True,cardinality=[1],\r\n",
        "                          num_layers=2,\r\n",
        "                          num_cells=32,\r\n",
        "                          cell_type='lstm',\r\n",
        "                          trainer=Trainer(epochs=5))"
      ],
      "execution_count": null,
      "outputs": []
    },
    {
      "cell_type": "code",
      "metadata": {
        "id": "l21tZObolRrb"
      },
      "source": [
        "df_train[0:7]"
      ],
      "execution_count": null,
      "outputs": []
    },
    {
      "cell_type": "code",
      "metadata": {
        "id": "Qlr4xGu9lcsA"
      },
      "source": [
        "from gluonts.dataset.common import ListDataset\r\n",
        "from gluonts.dataset.field_names import FieldName\r\n",
        "\r\n",
        "train_ds=ListDataset([\r\n",
        "                      {\r\n",
        "                       FieldName.TARGET:target,\r\n",
        "                       FieldName.START:start_train\r\n",
        "                       FieldName.FEAT_STATIC_CAT:fsc\r\n",
        "                      }\r\n",
        "                      for (target,fsc)in zip(df_train[0:7],\r\n",
        "                                             ts_code[0:7].reshape(-1,1))\r\n",
        "                      ],freq=freq)\r\n",
        "\r\n",
        "test_ds=ListDataset([\r\n",
        "                     {\r\n",
        "                          FieldName.TARGET:target,\r\n",
        "                       FieldName.START:start_test\r\n",
        "                       FieldName.FEAT_STATIC_CAT:fsc\r\n",
        "                      }\r\n",
        "                      for (target,fsc)in zip(df_test[0:7],\r\n",
        "                                             ts_code[0:7].reshape(-1,1))\r\n",
        "                      ],freq=freq)\r\n",
        "                     "
      ],
      "execution_count": null,
      "outputs": []
    },
    {
      "cell_type": "code",
      "metadata": {
        "id": "v1YT9PhdnPt7"
      },
      "source": [
        "next(iter(train_ds))"
      ],
      "execution_count": null,
      "outputs": []
    },
    {
      "cell_type": "code",
      "metadata": {
        "id": "F6rOSWIRrwoa"
      },
      "source": [
        "predictor=estimator.train(training_data=train_ds)"
      ],
      "execution_count": null,
      "outputs": []
    },
    {
      "cell_type": "code",
      "metadata": {
        "id": "a4QsCfWyr3-U"
      },
      "source": [
        "from gluonts.evaluation.backtest import make_evaluation_predictions"
      ],
      "execution_count": null,
      "outputs": []
    },
    {
      "cell_type": "code",
      "metadata": {
        "id": "7BX2s8nUsMtP"
      },
      "source": [
        "forecast_it,ts_it=make_evaluation_predictions(\r\n",
        "    dataset=test_ds,\r\n",
        "    predictor=predictor,\r\n",
        "    num_samples=100,\r\n",
        ")"
      ],
      "execution_count": null,
      "outputs": []
    },
    {
      "cell_type": "code",
      "metadata": {
        "id": "YVu6t3vmsjIj"
      },
      "source": [
        "from tqdm.autonotebook import tqdm\r\n",
        "\r\n",
        "print('Obtaining time series conditionong values...')\r\n",
        "tss=list(tqdm(ts_it,total=len(df_test)))\r\n",
        "print('Obtaining time series predictions...')\r\n",
        "forecasts=list(tqdm(forecast_it,total=len(df_test)))"
      ],
      "execution_count": null,
      "outputs": []
    },
    {
      "cell_type": "code",
      "metadata": {
        "id": "zG_6jjCJtNZQ"
      },
      "source": [
        "def plot_prob_forecasts(ts_entry, forecast_entry):\r\n",
        "  plot_length=prediction_length\r\n",
        "  prediction_intrvals=(80.0,95.0)\r\n",
        "  legend=['observations','median prediction']+[f'{k}% prediction interval' for k in prediction_intervals][::-1]\r\n",
        "\r\n",
        "  fig,ax=plt.sublots(1,1,figsize=(10,7))\r\n",
        "  ts_entry[-plot_length:].plt(ax=ax)\r\n",
        "  forecast_entry.plot(prediction_intrvals=prediction_intervals,color='g')\r\n",
        "  plt.grid(which='both')\r\n",
        "  plt.legend(legend,loc='upper left')\r\n",
        "  plt.show()"
      ],
      "execution_count": null,
      "outputs": []
    },
    {
      "cell_type": "code",
      "metadata": {
        "id": "wo3yxSBxu7UT"
      },
      "source": [
        "for i in tqdm(range(6)):\r\n",
        "  ts_entry=tss[i]\r\n",
        "  forecast_entry=forecast[i]\r\n",
        "  plot_prob_forecasts(ts_rntry,forecast_entry)"
      ],
      "execution_count": null,
      "outputs": []
    },
    {
      "cell_type": "code",
      "metadata": {
        "id": "FjWEb40kvPCU"
      },
      "source": [
        "from gluonts.evaluation import Evaluator\r\n",
        "evaluator=Evaluator(quantiles=[0.1,0.5,0.9])\r\n",
        "agg_metrics,item_metrics=evaluator(iter(tss),iter(forecasts), num_series=len(df_test[0:7]))"
      ],
      "execution_count": null,
      "outputs": []
    },
    {
      "cell_type": "code",
      "metadata": {
        "id": "KTQwQK83vuFv"
      },
      "source": [
        "item_metrics"
      ],
      "execution_count": null,
      "outputs": []
    }
  ]
}