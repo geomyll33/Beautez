{
  "nbformat": 4,
  "nbformat_minor": 0,
  "metadata": {
    "colab": {
      "name": "EYATH_ keras multivariate lstm.ipynb",
      "provenance": [],
      "authorship_tag": "ABX9TyOH2a/vx78zM4tYTou928f/",
      "include_colab_link": true
    },
    "kernelspec": {
      "name": "python3",
      "display_name": "Python 3"
    },
    "language_info": {
      "name": "python"
    }
  },
  "cells": [
    {
      "cell_type": "markdown",
      "metadata": {
        "id": "view-in-github",
        "colab_type": "text"
      },
      "source": [
        "<a href=\"https://colab.research.google.com/github/geomyll33/Beautez/blob/master/EYATH__keras_multivariate_lstm.ipynb\" target=\"_parent\"><img src=\"https://colab.research.google.com/assets/colab-badge.svg\" alt=\"Open In Colab\"/></a>"
      ]
    },
    {
      "cell_type": "code",
      "metadata": {
        "id": "3LKPXU2o9gHF"
      },
      "source": [
        "# Import modules and packages\n",
        "import numpy as np\n",
        "import pandas as pd\n",
        "import matplotlib.pyplot as plt\n",
        "import datetime as dt\n",
        "from datetime import datetime\n",
        "\n",
        "from keras.callbacks import EarlyStopping, ReduceLROnPlateau, ModelCheckpoint, TensorBoard\n",
        "\n",
        "%matplotlib inline"
      ],
      "execution_count": null,
      "outputs": []
    },
    {
      "cell_type": "code",
      "metadata": {
        "id": "GMIL1-3tgliY"
      },
      "source": [
        "\n",
        "dataset_train=pd.read_csv('/content/multivariateEYATH.csv')\n",
        "\n",
        "\n",
        "\n"
      ],
      "execution_count": null,
      "outputs": []
    },
    {
      "cell_type": "code",
      "metadata": {
        "colab": {
          "base_uri": "https://localhost:8080/",
          "height": 411
        },
        "id": "QhcCDGGW9p30",
        "outputId": "98f9d6a9-87ff-4d68-acb2-e094a354e962"
      },
      "source": [
        "dataset_train"
      ],
      "execution_count": null,
      "outputs": [
        {
          "output_type": "execute_result",
          "data": {
            "text/html": [
              "<div>\n",
              "<style scoped>\n",
              "    .dataframe tbody tr th:only-of-type {\n",
              "        vertical-align: middle;\n",
              "    }\n",
              "\n",
              "    .dataframe tbody tr th {\n",
              "        vertical-align: top;\n",
              "    }\n",
              "\n",
              "    .dataframe thead th {\n",
              "        text-align: right;\n",
              "    }\n",
              "</style>\n",
              "<table border=\"1\" class=\"dataframe\">\n",
              "  <thead>\n",
              "    <tr style=\"text-align: right;\">\n",
              "      <th></th>\n",
              "      <th>timestamp</th>\n",
              "      <th>time</th>\n",
              "      <th>indication</th>\n",
              "      <th>retail_and_recreation_percent_change_from_baseline</th>\n",
              "      <th>grocery_and_pharmacy_percent_change_from_baseline</th>\n",
              "      <th>parks_percent_change_from_baseline</th>\n",
              "      <th>transit_stations_percent_change_from_baseline</th>\n",
              "      <th>workplaces_percent_change_from_baseline</th>\n",
              "      <th>residential_percent_change_from_baseline</th>\n",
              "      <th>average_temperature_celsius</th>\n",
              "      <th>minimum_temperature_celsius</th>\n",
              "      <th>maximum_temperature_celsius</th>\n",
              "      <th>rainfall_mm</th>\n",
              "      <th>snowfall_mm</th>\n",
              "      <th>relative_humidity</th>\n",
              "    </tr>\n",
              "  </thead>\n",
              "  <tbody>\n",
              "    <tr>\n",
              "      <th>0</th>\n",
              "      <td>02-15-20</td>\n",
              "      <td>0:00</td>\n",
              "      <td>1.32</td>\n",
              "      <td>2.0</td>\n",
              "      <td>1.0</td>\n",
              "      <td>2.0</td>\n",
              "      <td>7.0</td>\n",
              "      <td>2.0</td>\n",
              "      <td>0.0</td>\n",
              "      <td>10.955556</td>\n",
              "      <td>8.983333</td>\n",
              "      <td>12.838889</td>\n",
              "      <td>7.039429</td>\n",
              "      <td>30.48</td>\n",
              "      <td>77.367019</td>\n",
              "    </tr>\n",
              "    <tr>\n",
              "      <th>1</th>\n",
              "      <td>02-15-20</td>\n",
              "      <td>0:15</td>\n",
              "      <td>1.36</td>\n",
              "      <td>2.0</td>\n",
              "      <td>1.0</td>\n",
              "      <td>2.0</td>\n",
              "      <td>7.0</td>\n",
              "      <td>2.0</td>\n",
              "      <td>0.0</td>\n",
              "      <td>10.955556</td>\n",
              "      <td>8.983333</td>\n",
              "      <td>12.838889</td>\n",
              "      <td>7.039429</td>\n",
              "      <td>30.48</td>\n",
              "      <td>77.367019</td>\n",
              "    </tr>\n",
              "    <tr>\n",
              "      <th>2</th>\n",
              "      <td>02-15-20</td>\n",
              "      <td>0:30</td>\n",
              "      <td>1.39</td>\n",
              "      <td>2.0</td>\n",
              "      <td>1.0</td>\n",
              "      <td>2.0</td>\n",
              "      <td>7.0</td>\n",
              "      <td>2.0</td>\n",
              "      <td>0.0</td>\n",
              "      <td>10.955556</td>\n",
              "      <td>8.983333</td>\n",
              "      <td>12.838889</td>\n",
              "      <td>7.039429</td>\n",
              "      <td>30.48</td>\n",
              "      <td>77.367019</td>\n",
              "    </tr>\n",
              "    <tr>\n",
              "      <th>3</th>\n",
              "      <td>02-15-20</td>\n",
              "      <td>0:45</td>\n",
              "      <td>1.43</td>\n",
              "      <td>2.0</td>\n",
              "      <td>1.0</td>\n",
              "      <td>2.0</td>\n",
              "      <td>7.0</td>\n",
              "      <td>2.0</td>\n",
              "      <td>0.0</td>\n",
              "      <td>10.955556</td>\n",
              "      <td>8.983333</td>\n",
              "      <td>12.838889</td>\n",
              "      <td>7.039429</td>\n",
              "      <td>30.48</td>\n",
              "      <td>77.367019</td>\n",
              "    </tr>\n",
              "    <tr>\n",
              "      <th>4</th>\n",
              "      <td>02-15-20</td>\n",
              "      <td>1:00</td>\n",
              "      <td>1.47</td>\n",
              "      <td>2.0</td>\n",
              "      <td>1.0</td>\n",
              "      <td>2.0</td>\n",
              "      <td>7.0</td>\n",
              "      <td>2.0</td>\n",
              "      <td>0.0</td>\n",
              "      <td>10.955556</td>\n",
              "      <td>8.983333</td>\n",
              "      <td>12.838889</td>\n",
              "      <td>7.039429</td>\n",
              "      <td>30.48</td>\n",
              "      <td>77.367019</td>\n",
              "    </tr>\n",
              "    <tr>\n",
              "      <th>...</th>\n",
              "      <td>...</td>\n",
              "      <td>...</td>\n",
              "      <td>...</td>\n",
              "      <td>...</td>\n",
              "      <td>...</td>\n",
              "      <td>...</td>\n",
              "      <td>...</td>\n",
              "      <td>...</td>\n",
              "      <td>...</td>\n",
              "      <td>...</td>\n",
              "      <td>...</td>\n",
              "      <td>...</td>\n",
              "      <td>...</td>\n",
              "      <td>...</td>\n",
              "      <td>...</td>\n",
              "    </tr>\n",
              "    <tr>\n",
              "      <th>12917</th>\n",
              "      <td>NaN</td>\n",
              "      <td>NaN</td>\n",
              "      <td>NaN</td>\n",
              "      <td>NaN</td>\n",
              "      <td>NaN</td>\n",
              "      <td>NaN</td>\n",
              "      <td>NaN</td>\n",
              "      <td>NaN</td>\n",
              "      <td>NaN</td>\n",
              "      <td>NaN</td>\n",
              "      <td>NaN</td>\n",
              "      <td>NaN</td>\n",
              "      <td>NaN</td>\n",
              "      <td>NaN</td>\n",
              "      <td>NaN</td>\n",
              "    </tr>\n",
              "    <tr>\n",
              "      <th>12918</th>\n",
              "      <td>NaN</td>\n",
              "      <td>NaN</td>\n",
              "      <td>NaN</td>\n",
              "      <td>NaN</td>\n",
              "      <td>NaN</td>\n",
              "      <td>NaN</td>\n",
              "      <td>NaN</td>\n",
              "      <td>NaN</td>\n",
              "      <td>NaN</td>\n",
              "      <td>NaN</td>\n",
              "      <td>NaN</td>\n",
              "      <td>NaN</td>\n",
              "      <td>NaN</td>\n",
              "      <td>NaN</td>\n",
              "      <td>NaN</td>\n",
              "    </tr>\n",
              "    <tr>\n",
              "      <th>12919</th>\n",
              "      <td>NaN</td>\n",
              "      <td>NaN</td>\n",
              "      <td>NaN</td>\n",
              "      <td>NaN</td>\n",
              "      <td>NaN</td>\n",
              "      <td>NaN</td>\n",
              "      <td>NaN</td>\n",
              "      <td>NaN</td>\n",
              "      <td>NaN</td>\n",
              "      <td>NaN</td>\n",
              "      <td>NaN</td>\n",
              "      <td>NaN</td>\n",
              "      <td>NaN</td>\n",
              "      <td>NaN</td>\n",
              "      <td>NaN</td>\n",
              "    </tr>\n",
              "    <tr>\n",
              "      <th>12920</th>\n",
              "      <td>NaN</td>\n",
              "      <td>NaN</td>\n",
              "      <td>NaN</td>\n",
              "      <td>NaN</td>\n",
              "      <td>NaN</td>\n",
              "      <td>NaN</td>\n",
              "      <td>NaN</td>\n",
              "      <td>NaN</td>\n",
              "      <td>NaN</td>\n",
              "      <td>NaN</td>\n",
              "      <td>NaN</td>\n",
              "      <td>NaN</td>\n",
              "      <td>NaN</td>\n",
              "      <td>NaN</td>\n",
              "      <td>NaN</td>\n",
              "    </tr>\n",
              "    <tr>\n",
              "      <th>12921</th>\n",
              "      <td>NaN</td>\n",
              "      <td>NaN</td>\n",
              "      <td>NaN</td>\n",
              "      <td>NaN</td>\n",
              "      <td>NaN</td>\n",
              "      <td>NaN</td>\n",
              "      <td>NaN</td>\n",
              "      <td>NaN</td>\n",
              "      <td>NaN</td>\n",
              "      <td>NaN</td>\n",
              "      <td>NaN</td>\n",
              "      <td>NaN</td>\n",
              "      <td>NaN</td>\n",
              "      <td>NaN</td>\n",
              "      <td>NaN</td>\n",
              "    </tr>\n",
              "  </tbody>\n",
              "</table>\n",
              "<p>12922 rows × 15 columns</p>\n",
              "</div>"
            ],
            "text/plain": [
              "      timestamp  time  indication  ...  rainfall_mm  snowfall_mm  relative_humidity\n",
              "0      02-15-20  0:00        1.32  ...     7.039429        30.48          77.367019\n",
              "1      02-15-20  0:15        1.36  ...     7.039429        30.48          77.367019\n",
              "2      02-15-20  0:30        1.39  ...     7.039429        30.48          77.367019\n",
              "3      02-15-20  0:45        1.43  ...     7.039429        30.48          77.367019\n",
              "4      02-15-20  1:00        1.47  ...     7.039429        30.48          77.367019\n",
              "...         ...   ...         ...  ...          ...          ...                ...\n",
              "12917       NaN   NaN         NaN  ...          NaN          NaN                NaN\n",
              "12918       NaN   NaN         NaN  ...          NaN          NaN                NaN\n",
              "12919       NaN   NaN         NaN  ...          NaN          NaN                NaN\n",
              "12920       NaN   NaN         NaN  ...          NaN          NaN                NaN\n",
              "12921       NaN   NaN         NaN  ...          NaN          NaN                NaN\n",
              "\n",
              "[12922 rows x 15 columns]"
            ]
          },
          "metadata": {
            "tags": []
          },
          "execution_count": 6
        }
      ]
    },
    {
      "cell_type": "code",
      "metadata": {
        "id": "2hTHjJlEyK5i"
      },
      "source": [
        "dataset_train=dataset_train.dropna()"
      ],
      "execution_count": null,
      "outputs": []
    },
    {
      "cell_type": "code",
      "metadata": {
        "id": "aF1UhV4H3oiA",
        "colab": {
          "base_uri": "https://localhost:8080/"
        },
        "outputId": "cc562a79-8f70-4631-f417-688eb260d216"
      },
      "source": [
        "dataset_train.columns"
      ],
      "execution_count": null,
      "outputs": [
        {
          "output_type": "execute_result",
          "data": {
            "text/plain": [
              "Index(['timestamp', 'time', 'indication',\n",
              "       'retail_and_recreation_percent_change_from_baseline',\n",
              "       'grocery_and_pharmacy_percent_change_from_baseline',\n",
              "       'parks_percent_change_from_baseline',\n",
              "       'transit_stations_percent_change_from_baseline',\n",
              "       'workplaces_percent_change_from_baseline',\n",
              "       'residential_percent_change_from_baseline',\n",
              "       'average_temperature_celsius', 'minimum_temperature_celsius',\n",
              "       'maximum_temperature_celsius', 'rainfall_mm', 'snowfall_mm',\n",
              "       'relative_humidity'],\n",
              "      dtype='object')"
            ]
          },
          "metadata": {
            "tags": []
          },
          "execution_count": 9
        }
      ]
    },
    {
      "cell_type": "code",
      "metadata": {
        "id": "sDSN3meCuET8",
        "colab": {
          "base_uri": "https://localhost:8080/",
          "height": 1000
        },
        "outputId": "bc54be41-2844-4133-8b57-a427a372438d"
      },
      "source": [
        "import seaborn as sns\n",
        "f, ax = plt.subplots(figsize=(20, 20))\n",
        "sns.heatmap(dataset_train.corr(),annot=True,fmt='.1g',vmin=-1, vmax=1, center= 0,annot_kws={\"size\":8},cmap='viridis')\n",
        "plt.title('Heatmap of co-relation between variables',fontsize=16)\n",
        "plt.show()"
      ],
      "execution_count": null,
      "outputs": [
        {
          "output_type": "display_data",
          "data": {
            "image/png": "[encoded data removed]",
            "text/plain": [
              "<Figure size 1440x1440 with 2 Axes>"
            ]
          },
          "metadata": {
            "tags": [],
            "needs_background": "light"
          }
        }
      ]
    },
    {
      "cell_type": "code",
      "metadata": {
        "id": "AUgQtHrz5U_U"
      },
      "source": [
        "dataset_train['timestamp'].dt.strftime('%m-%d-%y')"
      ],
      "execution_count": null,
      "outputs": []
    },
    {
      "cell_type": "code",
      "metadata": {
        "colab": {
          "base_uri": "https://localhost:8080/"
        },
        "id": "98uhp4V99pMU",
        "outputId": "8b4285cd-279d-4a3b-9c80-cd0003158870"
      },
      "source": [
        "# Select features (columns) to be involved intro training and predictions\n",
        "cols = list(dataset_train)[2:15]\n",
        "\n",
        "# Extract dates (will be used in visualization)\n",
        "\n",
        "datelist_train = list(dataset_train['timestamp'])\n",
        "datelist_train = [dt.datetime.strptime(date, '%m-%d-%y').date() for date in datelist_train]\n",
        "\n",
        "print('Training set shape == {}'.format(dataset_train.shape))\n",
        "print('All timestamps == {}'.format(len(datelist_train)))\n",
        "print('Featured selected: {}'.format(cols))"
      ],
      "execution_count": null,
      "outputs": [
        {
          "output_type": "stream",
          "text": [
            "Training set shape == (12729, 15)\n",
            "All timestamps == 12729\n",
            "Featured selected: ['indication', 'retail_and_recreation_percent_change_from_baseline', 'grocery_and_pharmacy_percent_change_from_baseline', 'parks_percent_change_from_baseline', 'transit_stations_percent_change_from_baseline', 'workplaces_percent_change_from_baseline', 'residential_percent_change_from_baseline', 'average_temperature_celsius', 'minimum_temperature_celsius', 'maximum_temperature_celsius', 'rainfall_mm', 'snowfall_mm', 'relative_humidity']\n"
          ],
          "name": "stdout"
        }
      ]
    },
    {
      "cell_type": "code",
      "metadata": {
        "colab": {
          "base_uri": "https://localhost:8080/"
        },
        "id": "6jM4J55S-vhA",
        "outputId": "0bae7211-4a91-4dde-c268-731da4a49ad8"
      },
      "source": [
        "dataset_train = dataset_train[cols].astype(str)\n",
        "for i in cols:\n",
        "    for j in range(0, len(dataset_train)):\n",
        "        dataset_train[i][j] = dataset_train[i][j].replace(',', '')\n",
        "\n",
        "dataset_train = dataset_train.astype(float)\n",
        "\n",
        "# Using multiple features (predictors)\n",
        "training_set = dataset_train.to_numpy()\n",
        "\n",
        "print('Shape of training set == {}.'.format(training_set.shape))\n",
        "training_set"
      ],
      "execution_count": null,
      "outputs": [
        {
          "output_type": "stream",
          "text": [
            "Shape of training set == (12729, 13).\n"
          ],
          "name": "stdout"
        },
        {
          "output_type": "execute_result",
          "data": {
            "text/plain": [
              "array([[ 1.32    ,  2.      ,  1.      , ...,  7.039429, 30.48    ,\n",
              "        77.367019],\n",
              "       [ 1.36    ,  2.      ,  1.      , ...,  7.039429, 30.48    ,\n",
              "        77.367019],\n",
              "       [ 1.39    ,  2.      ,  1.      , ...,  7.039429, 30.48    ,\n",
              "        77.367019],\n",
              "       ...,\n",
              "       [ 4.26    ,  5.      , 14.      , ...,  0.      ,  0.      ,\n",
              "        43.045651],\n",
              "       [ 3.7     ,  5.      , 14.      , ...,  0.      ,  0.      ,\n",
              "        43.045651],\n",
              "       [ 3.23    ,  5.      , 14.      , ...,  0.      ,  0.      ,\n",
              "        43.045651]])"
            ]
          },
          "metadata": {
            "tags": []
          },
          "execution_count": 16
        }
      ]
    },
    {
      "cell_type": "code",
      "metadata": {
        "colab": {
          "base_uri": "https://localhost:8080/"
        },
        "id": "IDbEMyqjABBB",
        "outputId": "20897ec9-9b27-4d80-daf7-4aee4aac2e12"
      },
      "source": [
        "# Feature Scaling\n",
        "from sklearn.preprocessing import StandardScaler\n",
        "\n",
        "sc = StandardScaler()\n",
        "training_set_scaled = sc.fit_transform(training_set)\n",
        "\n",
        "sc_predict = StandardScaler()\n",
        "sc_predict.fit_transform(training_set[:, 0:1])"
      ],
      "execution_count": null,
      "outputs": [
        {
          "output_type": "execute_result",
          "data": {
            "text/plain": [
              "array([[-2.66088984],\n",
              "       [-2.60901541],\n",
              "       [-2.57010958],\n",
              "       ...,\n",
              "       [ 1.15188126],\n",
              "       [ 0.42563915],\n",
              "       [-0.18388549]])"
            ]
          },
          "metadata": {
            "tags": []
          },
          "execution_count": 17
        }
      ]
    },
    {
      "cell_type": "code",
      "metadata": {
        "colab": {
          "base_uri": "https://localhost:8080/"
        },
        "id": "YJFo1jysAYFg",
        "outputId": "59c3d884-7493-43ee-bd1e-bd53fdd3a7c1"
      },
      "source": [
        "\n",
        "# Creating a data structure with 90 timestamps and 1 output\n",
        "X_train = []\n",
        "y_train = []\n",
        "\n",
        "n_future = 12   # Number of days we want top predict into the future\n",
        "n_past = 48     # Number of past days we want to use to predict the future\n",
        "\n",
        "for i in range(n_past, len(training_set_scaled) - n_future +1):\n",
        "    X_train.append(training_set_scaled[i - n_past:i, 0:dataset_train.shape[1] - 1])\n",
        "    y_train.append(training_set_scaled[i + n_future - 1:i + n_future, 0])\n",
        "\n",
        "X_train, y_train = np.array(X_train), np.array(y_train)\n",
        "\n",
        "print('X_train shape == {}.'.format(X_train.shape))\n",
        "print('y_train shape == {}.'.format(y_train.shape))"
      ],
      "execution_count": null,
      "outputs": [
        {
          "output_type": "stream",
          "text": [
            "X_train shape == (12670, 48, 12).\n",
            "y_train shape == (12670, 1).\n"
          ],
          "name": "stdout"
        }
      ]
    },
    {
      "cell_type": "code",
      "metadata": {
        "id": "wmu22DPDAjKE"
      },
      "source": [
        "\n",
        "# Import Libraries and packages from Keras\n",
        "from keras.models import Sequential\n",
        "from keras.layers import Dense\n",
        "from keras.layers import LSTM\n",
        "from keras.layers import Dropout\n",
        "from keras.optimizers import Adam"
      ],
      "execution_count": null,
      "outputs": []
    },
    {
      "cell_type": "code",
      "metadata": {
        "id": "sW-ni-ROAleX"
      },
      "source": [
        "# Initializing the Neural Network based on LSTM\n",
        "model = Sequential()\n",
        "\n",
        "# Adding 1st LSTM layer\n",
        "model.add(LSTM(units=64, return_sequences=True, input_shape=(n_past, dataset_train.shape[1]-1)))\n",
        "\n",
        "# Adding 2nd LSTM layer\n",
        "model.add(LSTM(units=10, return_sequences=False))\n",
        "\n",
        "# Adding Dropout\n",
        "model.add(Dropout(0.25))\n",
        "\n",
        "# Output layer\n",
        "model.add(Dense(units=1, activation='linear'))\n",
        "\n",
        "# Compiling the Neural Network\n",
        "model.compile(optimizer = Adam(learning_rate=0.01), loss='mean_squared_error')"
      ],
      "execution_count": null,
      "outputs": []
    },
    {
      "cell_type": "code",
      "metadata": {
        "colab": {
          "base_uri": "https://localhost:8080/"
        },
        "id": "gBNGYC-TAqSI",
        "outputId": "64214190-63ed-48fb-8f51-dcc83e3653c0"
      },
      "source": [
        "%%time\n",
        "es = EarlyStopping(monitor='val_loss', min_delta=1e-10, patience=10, verbose=1)\n",
        "rlr = ReduceLROnPlateau(monitor='val_loss', factor=0.5, patience=10, verbose=1)\n",
        "mcp = ModelCheckpoint(filepath='weights.h5', monitor='val_loss', verbose=1, save_best_only=True, save_weights_only=True)\n",
        "\n",
        "tb = TensorBoard('logs')\n",
        "\n",
        "history = model.fit(X_train, y_train, shuffle=True, epochs=30, callbacks=[es, rlr, mcp, tb], validation_split=0.2, verbose=1, batch_size=256)"
      ],
      "execution_count": null,
      "outputs": [
        {
          "output_type": "stream",
          "text": [
            "Epoch 1/30\n",
            "40/40 [==============================] - 10s 164ms/step - loss: 0.9606 - val_loss: 0.9176\n",
            "\n",
            "Epoch 00001: val_loss improved from inf to 0.91763, saving model to weights.h5\n",
            "Epoch 2/30\n",
            "40/40 [==============================] - 5s 134ms/step - loss: 0.8222 - val_loss: 1.0724\n",
            "\n",
            "Epoch 00002: val_loss did not improve from 0.91763\n",
            "Epoch 3/30\n",
            "40/40 [==============================] - 5s 134ms/step - loss: 0.7660 - val_loss: 0.8856\n",
            "\n",
            "Epoch 00003: val_loss improved from 0.91763 to 0.88565, saving model to weights.h5\n",
            "Epoch 4/30\n",
            "40/40 [==============================] - 5s 132ms/step - loss: 0.7098 - val_loss: 0.9875\n",
            "\n",
            "Epoch 00004: val_loss did not improve from 0.88565\n",
            "Epoch 5/30\n",
            "40/40 [==============================] - 5s 133ms/step - loss: 0.6467 - val_loss: 1.0780\n",
            "\n",
            "Epoch 00005: val_loss did not improve from 0.88565\n",
            "Epoch 6/30\n",
            "40/40 [==============================] - 5s 134ms/step - loss: 0.6021 - val_loss: 0.9439\n",
            "\n",
            "Epoch 00006: val_loss did not improve from 0.88565\n",
            "Epoch 7/30\n",
            "40/40 [==============================] - 5s 134ms/step - loss: 0.5433 - val_loss: 1.1348\n",
            "\n",
            "Epoch 00007: val_loss did not improve from 0.88565\n",
            "Epoch 8/30\n",
            "40/40 [==============================] - 5s 135ms/step - loss: 0.5465 - val_loss: 0.9877\n",
            "\n",
            "Epoch 00008: val_loss did not improve from 0.88565\n",
            "Epoch 9/30\n",
            "40/40 [==============================] - 5s 132ms/step - loss: 0.5389 - val_loss: 1.2345\n",
            "\n",
            "Epoch 00009: val_loss did not improve from 0.88565\n",
            "Epoch 10/30\n",
            "40/40 [==============================] - 5s 134ms/step - loss: 0.5061 - val_loss: 1.2442\n",
            "\n",
            "Epoch 00010: val_loss did not improve from 0.88565\n",
            "Epoch 11/30\n",
            "40/40 [==============================] - 5s 135ms/step - loss: 0.4659 - val_loss: 1.0296\n",
            "\n",
            "Epoch 00011: val_loss did not improve from 0.88565\n",
            "Epoch 12/30\n",
            "40/40 [==============================] - 5s 134ms/step - loss: 0.4307 - val_loss: 1.2693\n",
            "\n",
            "Epoch 00012: val_loss did not improve from 0.88565\n",
            "Epoch 13/30\n",
            "40/40 [==============================] - 5s 135ms/step - loss: 0.3950 - val_loss: 1.0027\n",
            "\n",
            "Epoch 00013: ReduceLROnPlateau reducing learning rate to 0.004999999888241291.\n",
            "\n",
            "Epoch 00013: val_loss did not improve from 0.88565\n",
            "Epoch 00013: early stopping\n",
            "CPU times: user 1min 56s, sys: 8.55 s, total: 2min 4s\n",
            "Wall time: 1min 14s\n"
          ],
          "name": "stdout"
        }
      ]
    },
    {
      "cell_type": "code",
      "metadata": {
        "id": "tJWMbj9yA176"
      },
      "source": [
        "\n",
        "# Generate list of sequence of days for predictions\n",
        "datelist_future = pd.date_range(datelist_train[-1], periods=n_future, freq='1d').tolist()\n",
        "\n",
        "'''\n",
        "Remeber, we have datelist_train from begining.\n",
        "'''\n",
        "\n",
        "# Convert Pandas Timestamp to Datetime object (for transformation) --> FUTURE\n",
        "datelist_future_ = []\n",
        "for this_timestamp in datelist_future:\n",
        "    datelist_future_.append(this_timestamp.date())"
      ],
      "execution_count": null,
      "outputs": []
    },
    {
      "cell_type": "code",
      "metadata": {
        "id": "C-fSjserA6jk"
      },
      "source": [
        "\n",
        "# Perform predictions\n",
        "predictions_future = model.predict(X_train[-n_future:])\n",
        "\n",
        "predictions_train = model.predict(X_train[n_past:])"
      ],
      "execution_count": null,
      "outputs": []
    },
    {
      "cell_type": "code",
      "metadata": {
        "colab": {
          "base_uri": "https://localhost:8080/",
          "height": 391
        },
        "id": "Tw6AN0LpB1Jc",
        "outputId": "aa1f8e48-223b-4972-a9c8-231e61cb6351"
      },
      "source": [
        "# Inverse the predictions to original measurements\n",
        "\n",
        "# ---> Special function: convert <datetime.date> to <Timestamp>\n",
        "def datetime_to_timestamp(x):\n",
        "    '''\n",
        "        x : a given datetime value (datetime.date)\n",
        "    '''\n",
        "    return datetime.strptime(x.strftime('%y-%m-%d'), '%y-%m-%d')\n",
        "\n",
        "\n",
        "y_pred_future = sc_predict.inverse_transform(predictions_future)\n",
        "y_pred_train = sc_predict.inverse_transform(predictions_train)\n",
        "\n",
        "PREDICTIONS_FUTURE = pd.DataFrame(y_pred_future, columns=['Open']).set_index(pd.Series(datelist_future))\n",
        "PREDICTION_TRAIN = pd.DataFrame(y_pred_train, columns=['Open']).set_index(pd.Series(datelist_train[2 * n_past + n_future -1:]))\n",
        "\n",
        "# Convert <datetime.date> to <Timestamp> for PREDCITION_TRAIN\n",
        "PREDICTION_TRAIN.index = PREDICTION_TRAIN.index.to_series().apply(datetime_to_timestamp)\n",
        "\n",
        "PREDICTION_TRAIN"
      ],
      "execution_count": null,
      "outputs": [
        {
          "output_type": "execute_result",
          "data": {
            "text/html": [
              "<div>\n",
              "<style scoped>\n",
              "    .dataframe tbody tr th:only-of-type {\n",
              "        vertical-align: middle;\n",
              "    }\n",
              "\n",
              "    .dataframe tbody tr th {\n",
              "        vertical-align: top;\n",
              "    }\n",
              "\n",
              "    .dataframe thead th {\n",
              "        text-align: right;\n",
              "    }\n",
              "</style>\n",
              "<table border=\"1\" class=\"dataframe\">\n",
              "  <thead>\n",
              "    <tr style=\"text-align: right;\">\n",
              "      <th></th>\n",
              "      <th>Open</th>\n",
              "    </tr>\n",
              "  </thead>\n",
              "  <tbody>\n",
              "    <tr>\n",
              "      <th>2020-02-16</th>\n",
              "      <td>1.902810</td>\n",
              "    </tr>\n",
              "    <tr>\n",
              "      <th>2020-02-16</th>\n",
              "      <td>2.166550</td>\n",
              "    </tr>\n",
              "    <tr>\n",
              "      <th>2020-02-16</th>\n",
              "      <td>2.194550</td>\n",
              "    </tr>\n",
              "    <tr>\n",
              "      <th>2020-02-16</th>\n",
              "      <td>2.281461</td>\n",
              "    </tr>\n",
              "    <tr>\n",
              "      <th>2020-02-16</th>\n",
              "      <td>2.443569</td>\n",
              "    </tr>\n",
              "    <tr>\n",
              "      <th>...</th>\n",
              "      <td>...</td>\n",
              "    </tr>\n",
              "    <tr>\n",
              "      <th>2020-06-30</th>\n",
              "      <td>3.230065</td>\n",
              "    </tr>\n",
              "    <tr>\n",
              "      <th>2020-06-30</th>\n",
              "      <td>3.145124</td>\n",
              "    </tr>\n",
              "    <tr>\n",
              "      <th>2020-06-30</th>\n",
              "      <td>3.108638</td>\n",
              "    </tr>\n",
              "    <tr>\n",
              "      <th>2020-06-30</th>\n",
              "      <td>3.103757</td>\n",
              "    </tr>\n",
              "    <tr>\n",
              "      <th>2020-06-30</th>\n",
              "      <td>3.117167</td>\n",
              "    </tr>\n",
              "  </tbody>\n",
              "</table>\n",
              "<p>12622 rows × 1 columns</p>\n",
              "</div>"
            ],
            "text/plain": [
              "                Open\n",
              "2020-02-16  1.902810\n",
              "2020-02-16  2.166550\n",
              "2020-02-16  2.194550\n",
              "2020-02-16  2.281461\n",
              "2020-02-16  2.443569\n",
              "...              ...\n",
              "2020-06-30  3.230065\n",
              "2020-06-30  3.145124\n",
              "2020-06-30  3.108638\n",
              "2020-06-30  3.103757\n",
              "2020-06-30  3.117167\n",
              "\n",
              "[12622 rows x 1 columns]"
            ]
          },
          "metadata": {
            "tags": []
          },
          "execution_count": 24
        }
      ]
    }
  ]
}